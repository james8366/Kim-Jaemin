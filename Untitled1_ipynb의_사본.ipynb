{
  "nbformat": 4,
  "nbformat_minor": 0,
  "metadata": {
    "colab": {
      "name": "Untitled1.ipynb의 사본",
      "provenance": [],
      "collapsed_sections": [],
      "include_colab_link": true
    },
    "kernelspec": {
      "display_name": "Python 3",
      "name": "python3"
    },
    "language_info": {
      "name": "python"
    },
    "accelerator": "GPU"
  },
  "cells": [
    {
      "cell_type": "markdown",
      "metadata": {
        "id": "view-in-github",
        "colab_type": "text"
      },
      "source": [
        "<a href=\"https://colab.research.google.com/github/kimjaemin8366/Kim-Jaemin/blob/master/Untitled1_ipynb%EC%9D%98_%EC%82%AC%EB%B3%B8.ipynb\" target=\"_parent\"><img src=\"https://colab.research.google.com/assets/colab-badge.svg\" alt=\"Open In Colab\"/></a>"
      ]
    },
    {
      "cell_type": "code",
      "metadata": {
        "id": "-VePPAD6UC9b"
      },
      "source": [
        "import torch\n",
        "import torchvision\n",
        "from torchvision.datasets import CIFAR10"
      ],
      "execution_count": 64,
      "outputs": []
    },
    {
      "cell_type": "code",
      "metadata": {
        "colab": {
          "base_uri": "https://localhost:8080/"
        },
        "id": "-FDd-ZJbWFM1",
        "outputId": "123073c1-0c8d-4cba-bfc0-97ad8bbb5293"
      },
      "source": [
        "dataset = CIFAR10(root='./data/', download=True)"
      ],
      "execution_count": 65,
      "outputs": [
        {
          "output_type": "stream",
          "text": [
            "Files already downloaded and verified\n"
          ],
          "name": "stdout"
        }
      ]
    },
    {
      "cell_type": "code",
      "metadata": {
        "colab": {
          "base_uri": "https://localhost:8080/"
        },
        "id": "0fdo-LhmWJXl",
        "outputId": "7b74db54-d7e3-4ceb-989f-008c75ad0934"
      },
      "source": [
        "len(dataset)"
      ],
      "execution_count": 66,
      "outputs": [
        {
          "output_type": "execute_result",
          "data": {
            "text/plain": [
              "50000"
            ]
          },
          "metadata": {
            "tags": []
          },
          "execution_count": 66
        }
      ]
    },
    {
      "cell_type": "code",
      "metadata": {
        "colab": {
          "base_uri": "https://localhost:8080/"
        },
        "id": "nWGQCHgrW4P3",
        "outputId": "da517258-0475-460a-ea68-cf41f8ee5a6f"
      },
      "source": [
        "test_dataset = CIFAR10(root='data/', train=False)\n",
        "len(test_dataset)"
      ],
      "execution_count": 67,
      "outputs": [
        {
          "output_type": "execute_result",
          "data": {
            "text/plain": [
              "10000"
            ]
          },
          "metadata": {
            "tags": []
          },
          "execution_count": 67
        }
      ]
    },
    {
      "cell_type": "code",
      "metadata": {
        "colab": {
          "base_uri": "https://localhost:8080/"
        },
        "id": "RHuUcvvRW-3N",
        "outputId": "927141bf-ea77-4606-8d25-f2dbb50289dc"
      },
      "source": [
        "dataset[0]"
      ],
      "execution_count": 68,
      "outputs": [
        {
          "output_type": "execute_result",
          "data": {
            "text/plain": [
              "(<PIL.Image.Image image mode=RGB size=32x32 at 0x7FB4289DDE90>, 6)"
            ]
          },
          "metadata": {
            "tags": []
          },
          "execution_count": 68
        }
      ]
    },
    {
      "cell_type": "code",
      "metadata": {
        "id": "IbhTRvG6XYEd"
      },
      "source": [
        "import matplotlib.pyplot as pit\n",
        "%matplotlib inline"
      ],
      "execution_count": 70,
      "outputs": []
    },
    {
      "cell_type": "code",
      "metadata": {
        "colab": {
          "base_uri": "https://localhost:8080/",
          "height": 284
        },
        "id": "vocTD5JDXxe6",
        "outputId": "f1bfbac0-6a87-42c0-b6c5-1bc9ec380a83"
      },
      "source": [
        "image, label = dataset[0]\n",
        "pit.imshow(image, cmap='gray')\n",
        "print('Label:', label)"
      ],
      "execution_count": 71,
      "outputs": [
        {
          "output_type": "stream",
          "text": [
            "Label: 6\n"
          ],
          "name": "stdout"
        },
        {
          "output_type": "display_data",
          "data": {
            "image/png": "[encoded data removed]",
            "text/plain": [
              "<Figure size 432x288 with 1 Axes>"
            ]
          },
          "metadata": {
            "tags": [],
            "needs_background": "light"
          }
        }
      ]
    },
    {
      "cell_type": "code",
      "metadata": {
        "colab": {
          "base_uri": "https://localhost:8080/",
          "height": 284
        },
        "id": "oYZX6Y58ZLcG",
        "outputId": "2d02b695-ec32-4199-e808-a79eddffdc4c"
      },
      "source": [
        "image, label = dataset[10]\n",
        "pit.imshow(image, cmap='gray')\n",
        "print('Label:', label)"
      ],
      "execution_count": 72,
      "outputs": [
        {
          "output_type": "stream",
          "text": [
            "Label: 4\n"
          ],
          "name": "stdout"
        },
        {
          "output_type": "display_data",
          "data": {
            "image/png": "[encoded data removed]",
            "text/plain": [
              "<Figure size 432x288 with 1 Axes>"
            ]
          },
          "metadata": {
            "tags": [],
            "needs_background": "light"
          }
        }
      ]
    },
    {
      "cell_type": "code",
      "metadata": {
        "id": "9edJvOufZS47"
      },
      "source": [
        "import torchvision.transforms as transforms"
      ],
      "execution_count": 73,
      "outputs": []
    },
    {
      "cell_type": "code",
      "metadata": {
        "id": "3nDqTKTOZWNo"
      },
      "source": [
        "dataset = CIFAR10(root='data/', train=True, transform = transforms.ToTensor())"
      ],
      "execution_count": 74,
      "outputs": []
    },
    {
      "cell_type": "code",
      "metadata": {
        "colab": {
          "base_uri": "https://localhost:8080/"
        },
        "id": "U6Fla3K9Zj6g",
        "outputId": "3a5e6c93-73c7-42e4-db49-cea05c372143"
      },
      "source": [
        "img_tensor, label = dataset[0]\n",
        "print(img_tensor.shape, label)"
      ],
      "execution_count": 75,
      "outputs": [
        {
          "output_type": "stream",
          "text": [
            "torch.Size([3, 32, 32]) 6\n"
          ],
          "name": "stdout"
        }
      ]
    },
    {
      "cell_type": "code",
      "metadata": {
        "colab": {
          "base_uri": "https://localhost:8080/"
        },
        "id": "4nVPj4g6aLcH",
        "outputId": "34b9c1d1-a6a9-4dbe-e200-9a4ff483bcb1"
      },
      "source": [
        "print(img_tensor[0,10:15,10:15])\n",
        "print(torch.max(img_tensor), torch.min(img_tensor))"
      ],
      "execution_count": 76,
      "outputs": [
        {
          "output_type": "stream",
          "text": [
            "tensor([[0.3137, 0.3804, 0.3529, 0.3843, 0.5373],\n",
            "        [0.4353, 0.5725, 0.5333, 0.6392, 0.6627],\n",
            "        [0.5412, 0.8353, 0.6980, 0.7490, 0.8275],\n",
            "        [0.6471, 0.8980, 0.7176, 0.7490, 0.9373],\n",
            "        [0.7529, 0.7255, 0.5686, 0.7961, 0.8745]])\n",
            "tensor(1.) tensor(0.)\n"
          ],
          "name": "stdout"
        }
      ]
    },
    {
      "cell_type": "code",
      "metadata": {
        "colab": {
          "base_uri": "https://localhost:8080/",
          "height": 283
        },
        "id": "lmwIxesJbNkG",
        "outputId": "e030aee1-9eed-4b40-9358-716dba3b38d6"
      },
      "source": [
        "pit.imshow(img_tensor[0,10:15,10:15], cmap='gray')"
      ],
      "execution_count": 77,
      "outputs": [
        {
          "output_type": "execute_result",
          "data": {
            "text/plain": [
              "<matplotlib.image.AxesImage at 0x7fb4288baf10>"
            ]
          },
          "metadata": {
            "tags": []
          },
          "execution_count": 77
        },
        {
          "output_type": "display_data",
          "data": {
            "image/png": "[encoded data removed]",
            "text/plain": [
              "<Figure size 432x288 with 1 Axes>"
            ]
          },
          "metadata": {
            "tags": [],
            "needs_background": "light"
          }
        }
      ]
    },
    {
      "cell_type": "code",
      "metadata": {
        "colab": {
          "base_uri": "https://localhost:8080/"
        },
        "id": "lL74TVlrfRIE",
        "outputId": "ba1f83f4-f9b2-48e8-bb41-d4e864a605b5"
      },
      "source": [
        "from torch.utils.data import random_split\n",
        "train_ds, val_ds = random_split(dataset,[40000, 10000])\n",
        "len(train_ds), len(val_ds)"
      ],
      "execution_count": 78,
      "outputs": [
        {
          "output_type": "execute_result",
          "data": {
            "text/plain": [
              "(40000, 10000)"
            ]
          },
          "metadata": {
            "tags": []
          },
          "execution_count": 78
        }
      ]
    },
    {
      "cell_type": "code",
      "metadata": {
        "id": "RsE7XpjVgO6g"
      },
      "source": [
        "from torch.utils.data import DataLoader\n",
        "batch_size = 128\n",
        "\n",
        "train_loader = DataLoader(train_ds, batch_size, shuffle=True)\n",
        "val_loader = DataLoader(val_ds, batch_size)"
      ],
      "execution_count": 79,
      "outputs": []
    },
    {
      "cell_type": "code",
      "metadata": {
        "id": "9UiKm6N8g2rL"
      },
      "source": [
        "import torch.nn as nn\n",
        "input_size = 3*32*32\n",
        "num_classes = 10\n",
        "model = nn.Linear(input_size, num_classes)"
      ],
      "execution_count": 80,
      "outputs": []
    },
    {
      "cell_type": "code",
      "metadata": {
        "colab": {
          "base_uri": "https://localhost:8080/"
        },
        "id": "z_UoFTgIhCwq",
        "outputId": "b189ad12-e038-41a0-aeab-1f40b716b26e"
      },
      "source": [
        "print(model.weight.shape)\n",
        "model.weight"
      ],
      "execution_count": 81,
      "outputs": [
        {
          "output_type": "stream",
          "text": [
            "torch.Size([10, 3072])\n"
          ],
          "name": "stdout"
        },
        {
          "output_type": "execute_result",
          "data": {
            "text/plain": [
              "Parameter containing:\n",
              "tensor([[-0.0073, -0.0037,  0.0174,  ...,  0.0159,  0.0123,  0.0168],\n",
              "        [ 0.0146, -0.0087, -0.0006,  ..., -0.0162,  0.0161, -0.0114],\n",
              "        [ 0.0130, -0.0178,  0.0018,  ...,  0.0009, -0.0135,  0.0089],\n",
              "        ...,\n",
              "        [-0.0136, -0.0028, -0.0135,  ...,  0.0085,  0.0060,  0.0101],\n",
              "        [-0.0010,  0.0134,  0.0078,  ..., -0.0180,  0.0028,  0.0007],\n",
              "        [ 0.0112, -0.0172, -0.0090,  ...,  0.0004, -0.0116, -0.0049]],\n",
              "       requires_grad=True)"
            ]
          },
          "metadata": {
            "tags": []
          },
          "execution_count": 81
        }
      ]
    },
    {
      "cell_type": "code",
      "metadata": {
        "colab": {
          "base_uri": "https://localhost:8080/"
        },
        "id": "ylhe23v0hGX1",
        "outputId": "7542bcd3-70fa-4be1-95d9-b0b275d159b5"
      },
      "source": [
        "print(model.bias.shape)\n",
        "model.bias"
      ],
      "execution_count": 82,
      "outputs": [
        {
          "output_type": "stream",
          "text": [
            "torch.Size([10])\n"
          ],
          "name": "stdout"
        },
        {
          "output_type": "execute_result",
          "data": {
            "text/plain": [
              "Parameter containing:\n",
              "tensor([-0.0012, -0.0055,  0.0154,  0.0122, -0.0120,  0.0089,  0.0125, -0.0174,\n",
              "        -0.0158,  0.0122], requires_grad=True)"
            ]
          },
          "metadata": {
            "tags": []
          },
          "execution_count": 82
        }
      ]
    },
    {
      "cell_type": "code",
      "metadata": {
        "colab": {
          "base_uri": "https://localhost:8080/"
        },
        "id": "SYhk-Yf4jmfO",
        "outputId": "86e6fa26-6650-44d7-a5df-baf909f70638"
      },
      "source": [
        "for images, labels in train_loader:\n",
        "  print(labels)\n",
        "  print(images.shape)\n",
        "  outputs = model(images.view(-1,3072))\n",
        "  print(outputs)\n",
        "  break"
      ],
      "execution_count": 83,
      "outputs": [
        {
          "output_type": "stream",
          "text": [
            "tensor([8, 6, 9, 8, 2, 6, 4, 4, 8, 8, 6, 4, 4, 4, 9, 2, 8, 8, 2, 5, 8, 6, 1, 9,\n",
            "        2, 1, 6, 0, 8, 3, 8, 5, 3, 7, 1, 8, 0, 0, 8, 9, 5, 1, 6, 9, 5, 4, 9, 1,\n",
            "        3, 5, 0, 4, 2, 7, 2, 1, 0, 7, 2, 8, 3, 2, 4, 3, 9, 0, 2, 0, 4, 9, 2, 7,\n",
            "        5, 3, 0, 0, 2, 6, 0, 9, 7, 5, 2, 5, 8, 9, 1, 2, 2, 3, 8, 3, 9, 3, 4, 4,\n",
            "        2, 2, 6, 5, 3, 0, 3, 4, 0, 9, 5, 0, 3, 8, 4, 4, 5, 5, 0, 3, 0, 6, 1, 9,\n",
            "        1, 5, 2, 0, 7, 9, 5, 3])\n",
            "torch.Size([128, 3, 32, 32])\n",
            "tensor([[ 0.2963,  0.0506,  0.2701,  ...,  0.0697, -0.4005, -0.3944],\n",
            "        [ 0.3918,  0.0330,  0.1638,  ...,  0.0485, -0.2684, -0.2201],\n",
            "        [ 0.3129, -0.1159,  0.1613,  ...,  0.0692, -0.2490, -0.3508],\n",
            "        ...,\n",
            "        [ 0.1553,  0.1950,  0.3814,  ..., -0.0123, -0.3847, -0.4300],\n",
            "        [ 0.2409, -0.1588,  0.2505,  ..., -0.0499, -0.2290, -0.3868],\n",
            "        [ 0.4118, -0.1056,  0.3115,  ...,  0.0546, -0.0664, -0.2400]],\n",
            "       grad_fn=<AddmmBackward>)\n"
          ],
          "name": "stdout"
        }
      ]
    },
    {
      "cell_type": "code",
      "metadata": {
        "colab": {
          "base_uri": "https://localhost:8080/"
        },
        "id": "oTnQYwBdW075",
        "outputId": "72a55d78-f809-47e2-8d94-49b67f019047"
      },
      "source": [
        "len(outputs)"
      ],
      "execution_count": 84,
      "outputs": [
        {
          "output_type": "execute_result",
          "data": {
            "text/plain": [
              "128"
            ]
          },
          "metadata": {
            "tags": []
          },
          "execution_count": 84
        }
      ]
    },
    {
      "cell_type": "code",
      "metadata": {
        "id": "WqLbxowhj8Kx",
        "colab": {
          "base_uri": "https://localhost:8080/"
        },
        "outputId": "0dc4bde5-370c-45c7-c188-aa27b2737913"
      },
      "source": [
        "images.shape"
      ],
      "execution_count": 85,
      "outputs": [
        {
          "output_type": "execute_result",
          "data": {
            "text/plain": [
              "torch.Size([128, 3, 32, 32])"
            ]
          },
          "metadata": {
            "tags": []
          },
          "execution_count": 85
        }
      ]
    },
    {
      "cell_type": "code",
      "metadata": {
        "colab": {
          "base_uri": "https://localhost:8080/"
        },
        "id": "a_55b2jzkEjr",
        "outputId": "1ffe9f54-583b-44de-86fe-49c72b2be2b3"
      },
      "source": [
        "images.reshape(128, 3072).shape"
      ],
      "execution_count": 86,
      "outputs": [
        {
          "output_type": "execute_result",
          "data": {
            "text/plain": [
              "torch.Size([128, 3072])"
            ]
          },
          "metadata": {
            "tags": []
          },
          "execution_count": 86
        }
      ]
    },
    {
      "cell_type": "code",
      "metadata": {
        "id": "Sad4hpu4krJu"
      },
      "source": [
        "class MnistModel(nn.Module):\n",
        "  def __init__(self):\n",
        "    super().__init__()\n",
        "    self.linear = nn.Linear(input_size, num_classes)\n",
        "\n",
        "  def forward(self,xb):\n",
        "    xb = xb.reshape(-1, 3072)\n",
        "    out = self.linear(xb)\n",
        "    return out\n",
        "model = MnistModel()"
      ],
      "execution_count": 87,
      "outputs": []
    },
    {
      "cell_type": "code",
      "metadata": {
        "colab": {
          "base_uri": "https://localhost:8080/"
        },
        "id": "oNXo3PqMtxjo",
        "outputId": "a7c08aed-c15e-4eac-dcef-093f1c8e05d2"
      },
      "source": [
        "model.linear"
      ],
      "execution_count": 88,
      "outputs": [
        {
          "output_type": "execute_result",
          "data": {
            "text/plain": [
              "Linear(in_features=3072, out_features=10, bias=True)"
            ]
          },
          "metadata": {
            "tags": []
          },
          "execution_count": 88
        }
      ]
    },
    {
      "cell_type": "code",
      "metadata": {
        "colab": {
          "base_uri": "https://localhost:8080/"
        },
        "id": "khyGKv3HuCkf",
        "outputId": "dd69ef65-7d2a-43fc-9aff-41b27f9486e5"
      },
      "source": [
        "print(model.linear.weight.shape, model.linear.bias.shape)\n",
        "list(model.parameters())"
      ],
      "execution_count": 89,
      "outputs": [
        {
          "output_type": "stream",
          "text": [
            "torch.Size([10, 3072]) torch.Size([10])\n"
          ],
          "name": "stdout"
        },
        {
          "output_type": "execute_result",
          "data": {
            "text/plain": [
              "[Parameter containing:\n",
              " tensor([[-0.0036, -0.0035,  0.0122,  ..., -0.0012,  0.0014,  0.0159],\n",
              "         [-0.0052,  0.0146,  0.0173,  ...,  0.0119, -0.0156, -0.0160],\n",
              "         [ 0.0176, -0.0156,  0.0052,  ..., -0.0075, -0.0136,  0.0169],\n",
              "         ...,\n",
              "         [-0.0104, -0.0064, -0.0108,  ..., -0.0006, -0.0051,  0.0014],\n",
              "         [-0.0077,  0.0161,  0.0177,  ..., -0.0018, -0.0032, -0.0108],\n",
              "         [ 0.0054,  0.0014, -0.0145,  ..., -0.0111,  0.0159,  0.0054]],\n",
              "        requires_grad=True), Parameter containing:\n",
              " tensor([-0.0023,  0.0147, -0.0091, -0.0057, -0.0174,  0.0054, -0.0092,  0.0130,\n",
              "         -0.0022, -0.0037], requires_grad=True)]"
            ]
          },
          "metadata": {
            "tags": []
          },
          "execution_count": 89
        }
      ]
    },
    {
      "cell_type": "code",
      "metadata": {
        "colab": {
          "base_uri": "https://localhost:8080/"
        },
        "id": "sbkJuI38uzfv",
        "outputId": "6257ebd1-5e70-47b6-a849-20c02840f500"
      },
      "source": [
        "for images, labels in train_loader:\n",
        "  print(images.shape)\n",
        "  outputs = model(images)\n",
        "  break\n",
        "print('output.shape : ', outputs.shape)\n",
        "print('Sample outputs :\\n', outputs[:2].data)"
      ],
      "execution_count": 90,
      "outputs": [
        {
          "output_type": "stream",
          "text": [
            "torch.Size([128, 3, 32, 32])\n",
            "output.shape :  torch.Size([128, 10])\n",
            "Sample outputs :\n",
            " tensor([[-0.0849, -0.1079,  0.0525, -0.2019, -0.1096,  0.1755,  0.1123, -0.1342,\n",
            "         -0.3616,  0.0908],\n",
            "        [-0.0218,  0.3851, -0.2625, -0.2146,  0.1134, -0.0483,  0.0124,  0.0715,\n",
            "         -0.4362,  0.1650]])\n"
          ],
          "name": "stdout"
        }
      ]
    },
    {
      "cell_type": "code",
      "metadata": {
        "id": "aYvTjvuSxg4i"
      },
      "source": [
        "import torch.nn.functional as F"
      ],
      "execution_count": 91,
      "outputs": []
    },
    {
      "cell_type": "code",
      "metadata": {
        "colab": {
          "base_uri": "https://localhost:8080/"
        },
        "id": "ErTmOoy0y6kY",
        "outputId": "cb5d6bc1-b132-456c-bcea-0cababdd2a00"
      },
      "source": [
        "probs = F.softmax(outputs, dim=1)\n",
        "\n",
        "print(\"sample probabilities:\\n\", probs[:2].data)\n",
        "\n",
        "print(\"Sum: \", torch.sum(probs[0]).item())"
      ],
      "execution_count": 92,
      "outputs": [
        {
          "output_type": "stream",
          "text": [
            "sample probabilities:\n",
            " tensor([[0.0961, 0.0939, 0.1102, 0.0855, 0.0937, 0.1247, 0.1170, 0.0915, 0.0729,\n",
            "         0.1145],\n",
            "        [0.0978, 0.1468, 0.0768, 0.0806, 0.1119, 0.0952, 0.1012, 0.1073, 0.0646,\n",
            "         0.1178]])\n",
            "Sum:  0.9999999403953552\n"
          ],
          "name": "stdout"
        }
      ]
    },
    {
      "cell_type": "code",
      "metadata": {
        "colab": {
          "base_uri": "https://localhost:8080/"
        },
        "id": "nae5Pyd01hdT",
        "outputId": "312f4a5c-0290-4eed-e70a-f451853be7e1"
      },
      "source": [
        "max_probs, preds = torch.max(probs, dim=1)\n",
        "print(preds)\n",
        "print(max_probs)"
      ],
      "execution_count": 93,
      "outputs": [
        {
          "output_type": "stream",
          "text": [
            "tensor([5, 1, 6, 6, 6, 6, 1, 6, 6, 6, 6, 6, 9, 5, 6, 6, 6, 6, 1, 6, 1, 6, 6, 1,\n",
            "        6, 6, 6, 6, 6, 6, 6, 6, 6, 6, 6, 6, 6, 1, 6, 6, 6, 6, 1, 6, 6, 6, 6, 6,\n",
            "        6, 1, 6, 6, 6, 6, 6, 6, 6, 6, 6, 6, 6, 6, 6, 1, 6, 9, 1, 6, 6, 6, 6, 6,\n",
            "        6, 1, 9, 6, 1, 6, 1, 6, 6, 6, 6, 6, 0, 6, 6, 6, 6, 6, 6, 6, 6, 6, 6, 6,\n",
            "        6, 6, 6, 1, 6, 6, 6, 6, 5, 6, 6, 6, 6, 6, 6, 6, 6, 6, 6, 6, 6, 1, 5, 9,\n",
            "        6, 6, 6, 6, 6, 6, 6, 6])\n",
            "tensor([0.1247, 0.1468, 0.1901, 0.1494, 0.1541, 0.1847, 0.1315, 0.1304, 0.1596,\n",
            "        0.1537, 0.1635, 0.2026, 0.1269, 0.1654, 0.2113, 0.1739, 0.1673, 0.1558,\n",
            "        0.1783, 0.2210, 0.1589, 0.1470, 0.2166, 0.1408, 0.1472, 0.1574, 0.1281,\n",
            "        0.1873, 0.1594, 0.1517, 0.1832, 0.1995, 0.1597, 0.1422, 0.1836, 0.1692,\n",
            "        0.1473, 0.1457, 0.1959, 0.1521, 0.1712, 0.1384, 0.1271, 0.2303, 0.2362,\n",
            "        0.2151, 0.1562, 0.1750, 0.1689, 0.1294, 0.1759, 0.2012, 0.1737, 0.1512,\n",
            "        0.2041, 0.1876, 0.2163, 0.2000, 0.2001, 0.1714, 0.1706, 0.2507, 0.1713,\n",
            "        0.1561, 0.1842, 0.1603, 0.1495, 0.1722, 0.1965, 0.1763, 0.1772, 0.1373,\n",
            "        0.1678, 0.1515, 0.1511, 0.1717, 0.1432, 0.1346, 0.1303, 0.1465, 0.1669,\n",
            "        0.1706, 0.1602, 0.1839, 0.1267, 0.1898, 0.1692, 0.1657, 0.1730, 0.1668,\n",
            "        0.1538, 0.1327, 0.1633, 0.2309, 0.1680, 0.1306, 0.1501, 0.1667, 0.1943,\n",
            "        0.1429, 0.1518, 0.1287, 0.1523, 0.1384, 0.1451, 0.1568, 0.2207, 0.1703,\n",
            "        0.2017, 0.1566, 0.1514, 0.1371, 0.1547, 0.1553, 0.1995, 0.1308, 0.1510,\n",
            "        0.1439, 0.1321, 0.1443, 0.1931, 0.1546, 0.1708, 0.1918, 0.1333, 0.2336,\n",
            "        0.1587, 0.1884], grad_fn=<MaxBackward0>)\n"
          ],
          "name": "stdout"
        }
      ]
    },
    {
      "cell_type": "code",
      "metadata": {
        "colab": {
          "base_uri": "https://localhost:8080/"
        },
        "id": "qUj58bqh7kOS",
        "outputId": "f8f64e37-bb4d-470b-9e55-79c40a4bb442"
      },
      "source": [
        "labels"
      ],
      "execution_count": 94,
      "outputs": [
        {
          "output_type": "execute_result",
          "data": {
            "text/plain": [
              "tensor([1, 3, 9, 4, 4, 7, 1, 3, 5, 8, 5, 5, 2, 9, 0, 3, 3, 6, 3, 5, 6, 4, 8, 3,\n",
              "        5, 1, 7, 0, 4, 9, 0, 7, 1, 9, 3, 2, 2, 8, 9, 2, 4, 1, 6, 4, 0, 0, 1, 7,\n",
              "        4, 6, 2, 2, 7, 0, 1, 7, 8, 6, 5, 8, 7, 9, 5, 5, 6, 0, 6, 0, 0, 8, 8, 2,\n",
              "        3, 3, 5, 7, 6, 1, 9, 1, 4, 6, 4, 6, 1, 0, 3, 7, 0, 7, 3, 6, 0, 6, 1, 5,\n",
              "        4, 7, 2, 5, 7, 0, 9, 3, 9, 7, 2, 7, 8, 3, 7, 4, 9, 7, 9, 6, 9, 6, 2, 5,\n",
              "        1, 6, 0, 7, 7, 6, 5, 8])"
            ]
          },
          "metadata": {
            "tags": []
          },
          "execution_count": 94
        }
      ]
    },
    {
      "cell_type": "code",
      "metadata": {
        "colab": {
          "base_uri": "https://localhost:8080/"
        },
        "id": "71Qz1w7s7no9",
        "outputId": "6acadb9e-b8dd-4e85-a0c5-5d7dbb8a1985"
      },
      "source": [
        "outputs[:2]"
      ],
      "execution_count": 95,
      "outputs": [
        {
          "output_type": "execute_result",
          "data": {
            "text/plain": [
              "tensor([[-0.0849, -0.1079,  0.0525, -0.2019, -0.1096,  0.1755,  0.1123, -0.1342,\n",
              "         -0.3616,  0.0908],\n",
              "        [-0.0218,  0.3851, -0.2625, -0.2146,  0.1134, -0.0483,  0.0124,  0.0715,\n",
              "         -0.4362,  0.1650]], grad_fn=<SliceBackward>)"
            ]
          },
          "metadata": {
            "tags": []
          },
          "execution_count": 95
        }
      ]
    },
    {
      "cell_type": "code",
      "metadata": {
        "colab": {
          "base_uri": "https://localhost:8080/"
        },
        "id": "K6dYZUsD7u0q",
        "outputId": "491f48c2-4706-4469-c0d3-1630ce0e9002"
      },
      "source": [
        "torch.sum(preds==labels)"
      ],
      "execution_count": 96,
      "outputs": [
        {
          "output_type": "execute_result",
          "data": {
            "text/plain": [
              "tensor(11)"
            ]
          },
          "metadata": {
            "tags": []
          },
          "execution_count": 96
        }
      ]
    },
    {
      "cell_type": "code",
      "metadata": {
        "id": "bQ69J0PW7yUB"
      },
      "source": [
        "def accuracy(outputs, labels):\n",
        "  _, preds = torch.max(outputs, dim=1)\n",
        "  return torch.tensor(torch.sum(preds==labels).item() / len(preds))"
      ],
      "execution_count": 97,
      "outputs": []
    },
    {
      "cell_type": "code",
      "metadata": {
        "colab": {
          "base_uri": "https://localhost:8080/"
        },
        "id": "Ye4ZcL7Q7_v2",
        "outputId": "ec150413-bed5-4f74-bf2d-0685f0357464"
      },
      "source": [
        "accuracy(outputs, labels)"
      ],
      "execution_count": 98,
      "outputs": [
        {
          "output_type": "execute_result",
          "data": {
            "text/plain": [
              "tensor(0.0859)"
            ]
          },
          "metadata": {
            "tags": []
          },
          "execution_count": 98
        }
      ]
    },
    {
      "cell_type": "code",
      "metadata": {
        "colab": {
          "base_uri": "https://localhost:8080/"
        },
        "id": "vYA378NR8U1P",
        "outputId": "42d73156-e89e-48cb-d7cb-5e4aa4e0076a"
      },
      "source": [
        "probs"
      ],
      "execution_count": 99,
      "outputs": [
        {
          "output_type": "execute_result",
          "data": {
            "text/plain": [
              "tensor([[0.0961, 0.0939, 0.1102,  ..., 0.0915, 0.0729, 0.1145],\n",
              "        [0.0978, 0.1468, 0.0768,  ..., 0.1073, 0.0646, 0.1178],\n",
              "        [0.0680, 0.0863, 0.0885,  ..., 0.0533, 0.0630, 0.1139],\n",
              "        ...,\n",
              "        [0.0627, 0.1023, 0.0840,  ..., 0.0448, 0.0398, 0.1306],\n",
              "        [0.0926, 0.0979, 0.0797,  ..., 0.0554, 0.0632, 0.1187],\n",
              "        [0.0868, 0.0900, 0.0754,  ..., 0.0474, 0.0431, 0.1330]],\n",
              "       grad_fn=<SoftmaxBackward>)"
            ]
          },
          "metadata": {
            "tags": []
          },
          "execution_count": 99
        }
      ]
    },
    {
      "cell_type": "code",
      "metadata": {
        "colab": {
          "base_uri": "https://localhost:8080/"
        },
        "id": "fH6IMbgvAmBo",
        "outputId": "bb096c74-6212-406c-d49b-75b4c6ba749f"
      },
      "source": [
        "outputs"
      ],
      "execution_count": 100,
      "outputs": [
        {
          "output_type": "execute_result",
          "data": {
            "text/plain": [
              "tensor([[-0.0849, -0.1079,  0.0525,  ..., -0.1342, -0.3616,  0.0908],\n",
              "        [-0.0218,  0.3851, -0.2625,  ...,  0.0715, -0.4362,  0.1650],\n",
              "        [-0.4797, -0.2420, -0.2168,  ..., -0.7237, -0.5573,  0.0360],\n",
              "        ...,\n",
              "        [-0.6067, -0.1171, -0.3136,  ..., -0.9421, -1.0611,  0.1280],\n",
              "        [-0.0629, -0.0072, -0.2135,  ..., -0.5760, -0.4445,  0.1858],\n",
              "        [-0.1519, -0.1151, -0.2933,  ..., -0.7562, -0.8516,  0.2749]],\n",
              "       grad_fn=<AddmmBackward>)"
            ]
          },
          "metadata": {
            "tags": []
          },
          "execution_count": 100
        }
      ]
    },
    {
      "cell_type": "code",
      "metadata": {
        "id": "M_9ipwo2Anye"
      },
      "source": [
        "loss_fn = F.cross_entropy"
      ],
      "execution_count": 101,
      "outputs": []
    },
    {
      "cell_type": "code",
      "metadata": {
        "colab": {
          "base_uri": "https://localhost:8080/"
        },
        "id": "Uvu4nUCOAvyG",
        "outputId": "064bad22-58c5-447b-b4fc-3cee0f929202"
      },
      "source": [
        "loss = loss_fn(outputs, labels)\n",
        "print(loss)"
      ],
      "execution_count": 102,
      "outputs": [
        {
          "output_type": "stream",
          "text": [
            "tensor(2.3801, grad_fn=<NllLossBackward>)\n"
          ],
          "name": "stdout"
        }
      ]
    },
    {
      "cell_type": "code",
      "metadata": {
        "id": "noX2zJhgA7ko"
      },
      "source": [
        "def fit(epochs, lr, model, train_loader, val_loader, opt_func=torch.optim.SGD):\n",
        "  \n",
        "  optimizer = opt_func(model.parameters(), lr)\n",
        "  history = []\n",
        "  \n",
        "  for epoch in range(epochs):\n",
        "    accsum = 0\n",
        "    losssum = 0\n",
        "    for batch in train_loader:\n",
        "      loss = model.training_step(batch)\n",
        "      loss.backward()\n",
        "      losssum += loss\n",
        "      optimizer.step()\n",
        "      optimizer.zero_grad()\n",
        "    \n",
        "    total_labels = None\n",
        "    total_out = None\n",
        "    for batch in train_loader:\n",
        "      images, labels = batch\n",
        "      out = model(images)\n",
        "      if total_out is None:\n",
        "        total_out = out\n",
        "        total_labels = labels\n",
        "      else:\n",
        "        total_out = torch.vstack([total_out, out])\n",
        "        total_labels = torch.hstack([total_labels, labels])      \n",
        "        \n",
        "    print(f\"train_loss : {losssum/len(total_labels)}, train_acc : {accuracy(total_out, total_labels)}\")\n",
        "\n",
        "    result = evaluate(model, val_loader)\n",
        "    model.epoch_end(epoch, result)\n",
        "    history.append(result)\n",
        "  \n",
        "\n",
        "  return history\n"
      ],
      "execution_count": 103,
      "outputs": []
    },
    {
      "cell_type": "code",
      "metadata": {
        "id": "FhIh_sKxBqkJ"
      },
      "source": [
        "def evaluate(model, val_loader):\n",
        "  outputs = [model.validation_step(batch) for batch in val_loader]\n",
        "  return model.validation_epoch_end(outputs)"
      ],
      "execution_count": 104,
      "outputs": []
    },
    {
      "cell_type": "code",
      "metadata": {
        "id": "0LjAr9s5B0o0"
      },
      "source": [
        "class CIFARModel(nn.Module):\n",
        "  def __init__(self):\n",
        "    super().__init__()\n",
        "    self.linear = nn.Linear(input_size, num_classes)\n",
        "\n",
        "  def forward(self, xb):\n",
        "    xb = xb.reshape(-1, 3072)\n",
        "    out = self.linear(xb)\n",
        "    return out\n",
        "\n",
        "  def training_step(self, batch):\n",
        "    images, labels = batch\n",
        "    out = self(images)\n",
        "    loss = F.cross_entropy(out, labels)\n",
        "    return loss\n",
        "  \n",
        "  def validation_step(self, batch):\n",
        "    images, labels = batch\n",
        "    out = self(images)\n",
        "    loss = F.cross_entropy(out, labels)\n",
        "    acc = accuracy(out, labels)\n",
        "    return {'val_loss' : loss, 'val_acc' : acc}\n",
        "\n",
        "  def validation_epoch_end(self, outputs):\n",
        "    batch_losses = [x['val_loss']for x in outputs]\n",
        "    epoch_loss = torch.stack(batch_losses).mean()\n",
        "    batch_accs = [x['val_acc'] for x in outputs]\n",
        "    epoch_acc = torch.stack(batch_accs).mean()\n",
        "    return{'val_loss': epoch_loss.item(), 'val_acc': epoch_acc.item()}\n",
        "\n",
        "  def epoch_end(self, epoch, result):\n",
        "    \n",
        "    print(\"Epoch [{}], val_loss {:.4f}, val_acc: {:4f}\". format(epoch, result['val_loss'], result['val_acc']))\n",
        "    \n",
        "  \n",
        "model = CIFARModel()\n"
      ],
      "execution_count": 107,
      "outputs": []
    },
    {
      "cell_type": "code",
      "metadata": {
        "id": "XXyxOSjPC5mE",
        "colab": {
          "base_uri": "https://localhost:8080/"
        },
        "outputId": "973be9e4-72b5-4b71-8df8-b80f1a8a37de"
      },
      "source": [
        "result0 = evaluate(model, val_loader)\n",
        "result0"
      ],
      "execution_count": 108,
      "outputs": [
        {
          "output_type": "execute_result",
          "data": {
            "text/plain": [
              "{'val_acc': 0.09632120281457901, 'val_loss': 2.380214214324951}"
            ]
          },
          "metadata": {
            "tags": []
          },
          "execution_count": 108
        }
      ]
    },
    {
      "cell_type": "code",
      "metadata": {
        "id": "l7cOwxiqmonS"
      },
      "source": [
        "import time\n"
      ],
      "execution_count": 109,
      "outputs": []
    },
    {
      "cell_type": "code",
      "metadata": {
        "colab": {
          "base_uri": "https://localhost:8080/"
        },
        "id": "n1lGCb-zDI4Q",
        "outputId": "63a7958d-b60c-42cc-f2fe-54a1070501e5"
      },
      "source": [
        "start = time.time()\n",
        "history1 = fit(5, 0.001, model, train_loader, val_loader)\n",
        "end = time.time()\n",
        "print(end-start)"
      ],
      "execution_count": 110,
      "outputs": [
        {
          "output_type": "stream",
          "text": [
            "train_loss : 0.017368817701935768, train_acc : 0.2429250031709671\n",
            "Epoch [0], val_loss 2.1492, val_acc: 0.239517\n",
            "train_loss : 0.016452070325613022, train_acc : 0.29750001430511475\n",
            "Epoch [1], val_loss 2.0700, val_acc: 0.289656\n",
            "train_loss : 0.015976566821336746, train_acc : 0.29852500557899475\n",
            "Epoch [2], val_loss 2.0247, val_acc: 0.288964\n",
            "train_loss : 0.015674637630581856, train_acc : 0.3162750005722046\n",
            "Epoch [3], val_loss 1.9920, val_acc: 0.309632\n",
            "train_loss : 0.015455354005098343, train_acc : 0.33524999022483826\n",
            "Epoch [4], val_loss 1.9696, val_acc: 0.325356\n",
            "45.22302031517029\n"
          ],
          "name": "stdout"
        }
      ]
    },
    {
      "cell_type": "code",
      "metadata": {
        "colab": {
          "base_uri": "https://localhost:8080/"
        },
        "id": "HeENHZrMDuxh",
        "outputId": "4ed07c27-954b-47f4-b8f9-eb1cc1119672"
      },
      "source": [
        "history2 = fit(5, 0.001, model, train_loader, val_loader)"
      ],
      "execution_count": 111,
      "outputs": [
        {
          "output_type": "stream",
          "text": [
            "train_loss : 0.015286999754607677, train_acc : 0.3397499918937683\n",
            "Epoch [0], val_loss 1.9515, val_acc: 0.326839\n",
            "train_loss : 0.015149470418691635, train_acc : 0.3396250009536743\n",
            "Epoch [1], val_loss 1.9369, val_acc: 0.330004\n",
            "train_loss : 0.015039396472275257, train_acc : 0.3494749963283539\n",
            "Epoch [2], val_loss 1.9228, val_acc: 0.339597\n",
            "train_loss : 0.014944043010473251, train_acc : 0.3508250117301941\n",
            "Epoch [3], val_loss 1.9126, val_acc: 0.341673\n",
            "train_loss : 0.014866759069263935, train_acc : 0.35577499866485596\n",
            "Epoch [4], val_loss 1.9033, val_acc: 0.346915\n"
          ],
          "name": "stdout"
        }
      ]
    },
    {
      "cell_type": "code",
      "metadata": {
        "colab": {
          "base_uri": "https://localhost:8080/"
        },
        "id": "_4O5tVqXDw4b",
        "outputId": "aa144553-0dd1-4d0f-9708-e5a1bbb9aca5"
      },
      "source": [
        "history3 = fit(5, 0.001, model, train_loader, val_loader)"
      ],
      "execution_count": 112,
      "outputs": [
        {
          "output_type": "stream",
          "text": [
            "train_loss : 0.014794006012380123, train_acc : 0.35692501068115234\n",
            "Epoch [0], val_loss 1.8942, val_acc: 0.350771\n",
            "train_loss : 0.014733009040355682, train_acc : 0.3605499863624573\n",
            "Epoch [1], val_loss 1.8867, val_acc: 0.354826\n",
            "train_loss : 0.014676579274237156, train_acc : 0.3634749948978424\n",
            "Epoch [2], val_loss 1.8807, val_acc: 0.356013\n",
            "train_loss : 0.014627952128648758, train_acc : 0.36172500252723694\n",
            "Epoch [3], val_loss 1.8754, val_acc: 0.355914\n",
            "train_loss : 0.014580128714442253, train_acc : 0.3674499988555908\n",
            "Epoch [4], val_loss 1.8701, val_acc: 0.358287\n"
          ],
          "name": "stdout"
        }
      ]
    },
    {
      "cell_type": "code",
      "metadata": {
        "colab": {
          "base_uri": "https://localhost:8080/"
        },
        "id": "H5B5lZ6lS1eW",
        "outputId": "b7aa84b0-29a9-4934-f693-674abacf2c44"
      },
      "source": [
        "history4= fit(5,0.001, model, train_loader, val_loader)"
      ],
      "execution_count": 113,
      "outputs": [
        {
          "output_type": "stream",
          "text": [
            "train_loss : 0.014539809897542, train_acc : 0.36617499589920044\n",
            "Epoch [0], val_loss 1.8650, val_acc: 0.359573\n",
            "train_loss : 0.014500608667731285, train_acc : 0.36809998750686646\n",
            "Epoch [1], val_loss 1.8612, val_acc: 0.360858\n",
            "train_loss : 0.014468202367424965, train_acc : 0.37130001187324524\n",
            "Epoch [2], val_loss 1.8563, val_acc: 0.363924\n",
            "train_loss : 0.014434771612286568, train_acc : 0.37290000915527344\n",
            "Epoch [3], val_loss 1.8527, val_acc: 0.365012\n",
            "train_loss : 0.014398901723325253, train_acc : 0.3732999861240387\n",
            "Epoch [4], val_loss 1.8492, val_acc: 0.366396\n"
          ],
          "name": "stdout"
        }
      ]
    },
    {
      "cell_type": "code",
      "metadata": {
        "colab": {
          "base_uri": "https://localhost:8080/"
        },
        "id": "BZyOriuQbKoO",
        "outputId": "05323f33-154a-4583-ca22-1147e1098e42"
      },
      "source": [
        "history5 = fit(5,0.001, model, train_loader, val_loader)"
      ],
      "execution_count": 114,
      "outputs": [
        {
          "output_type": "stream",
          "text": [
            "train_loss : 0.014374202117323875, train_acc : 0.37564998865127563\n",
            "Epoch [0], val_loss 1.8451, val_acc: 0.367979\n",
            "train_loss : 0.014346038922667503, train_acc : 0.3770749866962433\n",
            "Epoch [1], val_loss 1.8433, val_acc: 0.369066\n",
            "train_loss : 0.014323586598038673, train_acc : 0.37380000948905945\n",
            "Epoch [2], val_loss 1.8405, val_acc: 0.367484\n",
            "train_loss : 0.014300103299319744, train_acc : 0.37902501225471497\n",
            "Epoch [3], val_loss 1.8373, val_acc: 0.372231\n",
            "train_loss : 0.014274603687226772, train_acc : 0.3801249861717224\n",
            "Epoch [4], val_loss 1.8341, val_acc: 0.372923\n"
          ],
          "name": "stdout"
        }
      ]
    },
    {
      "cell_type": "code",
      "metadata": {
        "colab": {
          "base_uri": "https://localhost:8080/",
          "height": 313
        },
        "id": "sTB85aq9EPBm",
        "outputId": "de46a558-488c-49ab-c573-32134f7250ea"
      },
      "source": [
        "history = [result0]+ history1 + history2 + history3 +history4 + history5\n",
        "accuracies = [result['val_acc'] for result in history]\n",
        "pit.plot(accuracies, '-x')\n",
        "pit.xlabel('epoch')\n",
        "pit.ylabel('accuracy')\n",
        "pit.title('Accuracy vs No. of epochs')"
      ],
      "execution_count": 115,
      "outputs": [
        {
          "output_type": "execute_result",
          "data": {
            "text/plain": [
              "Text(0.5, 1.0, 'Accuracy vs No. of epochs')"
            ]
          },
          "metadata": {
            "tags": []
          },
          "execution_count": 115
        },
        {
          "output_type": "display_data",
          "data": {
            "image/png": "[encoded data removed]",
            "text/plain": [
              "<Figure size 432x288 with 1 Axes>"
            ]
          },
          "metadata": {
            "tags": [],
            "needs_background": "light"
          }
        }
      ]
    },
    {
      "cell_type": "code",
      "metadata": {
        "id": "j_1wD6WTFIk6"
      },
      "source": [
        "test_dataset = CIFAR10(root='data', train=False, transform = transforms.ToTensor())"
      ],
      "execution_count": 116,
      "outputs": []
    },
    {
      "cell_type": "code",
      "metadata": {
        "colab": {
          "base_uri": "https://localhost:8080/",
          "height": 302
        },
        "id": "QxRxTAp5FVFE",
        "outputId": "7afe9b0e-d285-4ab0-8f9e-57c26b5f889d"
      },
      "source": [
        "img, label = test_dataset[0]\n",
        "pit.imshow(img[0], cmap='gray')\n",
        "print('Shape:', img.shape)\n",
        "print('Label:', label)"
      ],
      "execution_count": 117,
      "outputs": [
        {
          "output_type": "stream",
          "text": [
            "Shape: torch.Size([3, 32, 32])\n",
            "Label: 3\n"
          ],
          "name": "stdout"
        },
        {
          "output_type": "display_data",
          "data": {
            "image/png": "[encoded data removed]",
            "text/plain": [
              "<Figure size 432x288 with 1 Axes>"
            ]
          },
          "metadata": {
            "tags": [],
            "needs_background": "light"
          }
        }
      ]
    },
    {
      "cell_type": "code",
      "metadata": {
        "id": "cQJdYPCPFfmR"
      },
      "source": [
        "def predict_image(img,model):\n",
        "  xb = img.unsqueeze(0)\n",
        "  yb = model(xb)\n",
        "  _, preds = torch.max(yb, dim=1)\n",
        "  return preds[0].item()"
      ],
      "execution_count": 118,
      "outputs": []
    },
    {
      "cell_type": "code",
      "metadata": {
        "colab": {
          "base_uri": "https://localhost:8080/",
          "height": 284
        },
        "id": "FUxhnXBNDYcq",
        "outputId": "e1d60906-cc68-404e-80cf-7fdff09f4e5c"
      },
      "source": [
        "img, label = test_dataset[0]\n",
        "pit.imshow(img[0], cmap='gray')\n",
        "print('Label:', label, 'Predicted:', predict_image(img,model))"
      ],
      "execution_count": 119,
      "outputs": [
        {
          "output_type": "stream",
          "text": [
            "Label: 3 Predicted: 3\n"
          ],
          "name": "stdout"
        },
        {
          "output_type": "display_data",
          "data": {
            "image/png": "[encoded data removed]",
            "text/plain": [
              "<Figure size 432x288 with 1 Axes>"
            ]
          },
          "metadata": {
            "tags": [],
            "needs_background": "light"
          }
        }
      ]
    },
    {
      "cell_type": "code",
      "metadata": {
        "colab": {
          "base_uri": "https://localhost:8080/",
          "height": 284
        },
        "id": "7lDzcu6IB8y-",
        "outputId": "9610ee3e-157c-4f95-c7f3-02147ad399f7"
      },
      "source": [
        "img, label = test_dataset[10]\n",
        "pit.imshow(img[0], cmap='gray')\n",
        "print('Label:', label, 'Predicted:', predict_image(img,model))"
      ],
      "execution_count": 120,
      "outputs": [
        {
          "output_type": "stream",
          "text": [
            "Label: 0 Predicted: 8\n"
          ],
          "name": "stdout"
        },
        {
          "output_type": "display_data",
          "data": {
            "image/png": "[encoded data removed]",
            "text/plain": [
              "<Figure size 432x288 with 1 Axes>"
            ]
          },
          "metadata": {
            "tags": [],
            "needs_background": "light"
          }
        }
      ]
    },
    {
      "cell_type": "code",
      "metadata": {
        "colab": {
          "base_uri": "https://localhost:8080/",
          "height": 284
        },
        "id": "xbyO238fF5qJ",
        "outputId": "274507e3-c710-4a09-83dc-b9f372a372a2"
      },
      "source": [
        "img, label = test_dataset[193]\n",
        "pit.imshow(img[0], cmap='gray')\n",
        "print('Label:', label, ', Predicted:', predict_image(img, model))"
      ],
      "execution_count": 121,
      "outputs": [
        {
          "output_type": "stream",
          "text": [
            "Label: 1 , Predicted: 3\n"
          ],
          "name": "stdout"
        },
        {
          "output_type": "display_data",
          "data": {
            "image/png": "[encoded data removed]",
            "text/plain": [
              "<Figure size 432x288 with 1 Axes>"
            ]
          },
          "metadata": {
            "tags": [],
            "needs_background": "light"
          }
        }
      ]
    },
    {
      "cell_type": "code",
      "metadata": {
        "colab": {
          "base_uri": "https://localhost:8080/",
          "height": 284
        },
        "id": "sDXNzGBlF_-I",
        "outputId": "143f006c-da2f-4bfb-d116-98ebecec48c8"
      },
      "source": [
        "img, label = test_dataset[1839]\n",
        "pit.imshow(img[0], cmap='gray')\n",
        "print('Label:', label, ', Predicted:', predict_image(img, model))"
      ],
      "execution_count": 122,
      "outputs": [
        {
          "output_type": "stream",
          "text": [
            "Label: 7 , Predicted: 7\n"
          ],
          "name": "stdout"
        },
        {
          "output_type": "display_data",
          "data": {
            "image/png": "[encoded data removed]",
            "text/plain": [
              "<Figure size 432x288 with 1 Axes>"
            ]
          },
          "metadata": {
            "tags": [],
            "needs_background": "light"
          }
        }
      ]
    },
    {
      "cell_type": "code",
      "metadata": {
        "colab": {
          "base_uri": "https://localhost:8080/"
        },
        "id": "_AyIgp4WGEmC",
        "outputId": "907a2b70-9e58-4ce3-82e1-aae564894d96"
      },
      "source": [
        "test_loader = DataLoader(test_dataset, batch_size = 128)\n",
        "result = evaluate(model, test_loader)\n",
        "result"
      ],
      "execution_count": 123,
      "outputs": [
        {
          "output_type": "execute_result",
          "data": {
            "text/plain": [
              "{'val_acc': 0.3713409900665283, 'val_loss': 1.8287160396575928}"
            ]
          },
          "metadata": {
            "tags": []
          },
          "execution_count": 123
        }
      ]
    },
    {
      "cell_type": "code",
      "metadata": {
        "id": "c9rfIrF2Gk3f"
      },
      "source": [
        "torch.save(model.state_dict(), 'CIFAR-logistic.pth')"
      ],
      "execution_count": 124,
      "outputs": []
    },
    {
      "cell_type": "code",
      "metadata": {
        "colab": {
          "base_uri": "https://localhost:8080/"
        },
        "id": "7Na9jCqqGwXq",
        "outputId": "94e61a3a-c9b7-4c5a-a6c6-22e8cd2e98dd"
      },
      "source": [
        "model.state_dict()"
      ],
      "execution_count": 125,
      "outputs": [
        {
          "output_type": "execute_result",
          "data": {
            "text/plain": [
              "OrderedDict([('linear.weight',\n",
              "              tensor([[-0.0200, -0.0119, -0.0034,  ..., -0.0247, -0.0042,  0.0033],\n",
              "                      [-0.0126, -0.0120,  0.0130,  ...,  0.0074,  0.0202,  0.0032],\n",
              "                      [ 0.0101, -0.0093, -0.0046,  ..., -0.0245, -0.0159, -0.0188],\n",
              "                      ...,\n",
              "                      [ 0.0076,  0.0074,  0.0128,  ..., -0.0199, -0.0046, -0.0113],\n",
              "                      [-0.0141,  0.0027, -0.0066,  ...,  0.0041,  0.0231, -0.0036],\n",
              "                      [-0.0020,  0.0013,  0.0189,  ...,  0.0114,  0.0137,  0.0108]])),\n",
              "             ('linear.bias',\n",
              "              tensor([-0.0772,  0.0265,  0.0174, -0.0034,  0.0290, -0.0249,  0.0377,  0.0227,\n",
              "                      -0.0438,  0.0018]))])"
            ]
          },
          "metadata": {
            "tags": []
          },
          "execution_count": 125
        }
      ]
    },
    {
      "cell_type": "code",
      "metadata": {
        "id": "S_LtNky8Gy2x"
      },
      "source": [
        "model2 = CIFARModel()"
      ],
      "execution_count": 126,
      "outputs": []
    },
    {
      "cell_type": "code",
      "metadata": {
        "colab": {
          "base_uri": "https://localhost:8080/"
        },
        "id": "u6XvmfmnG1Gh",
        "outputId": "1dcb22fc-e2c7-460d-cb59-3c60ca798fc1"
      },
      "source": [
        "model2.state_dict()"
      ],
      "execution_count": 127,
      "outputs": [
        {
          "output_type": "execute_result",
          "data": {
            "text/plain": [
              "OrderedDict([('linear.weight',\n",
              "              tensor([[ 0.0008, -0.0054, -0.0036,  ...,  0.0026, -0.0149, -0.0081],\n",
              "                      [ 0.0141, -0.0024, -0.0062,  ...,  0.0178, -0.0100, -0.0100],\n",
              "                      [-0.0102,  0.0029, -0.0070,  ...,  0.0166,  0.0059, -0.0075],\n",
              "                      ...,\n",
              "                      [ 0.0175, -0.0003, -0.0129,  ...,  0.0042,  0.0125, -0.0090],\n",
              "                      [ 0.0138,  0.0054, -0.0104,  ..., -0.0093,  0.0178, -0.0053],\n",
              "                      [ 0.0009,  0.0055,  0.0055,  ...,  0.0145,  0.0051, -0.0087]])),\n",
              "             ('linear.bias',\n",
              "              tensor([ 1.0723e-02,  8.1410e-03, -8.2279e-03, -1.4452e-02,  1.4380e-02,\n",
              "                       6.5726e-03,  9.6684e-03,  1.3233e-02, -6.8167e-05,  7.6743e-04]))])"
            ]
          },
          "metadata": {
            "tags": []
          },
          "execution_count": 127
        }
      ]
    },
    {
      "cell_type": "code",
      "metadata": {
        "colab": {
          "base_uri": "https://localhost:8080/"
        },
        "id": "N1bKbv7gG42f",
        "outputId": "e975910a-e04a-4134-df0b-06c8b4184d7c"
      },
      "source": [
        "evaluate(model2, test_loader)"
      ],
      "execution_count": 128,
      "outputs": [
        {
          "output_type": "execute_result",
          "data": {
            "text/plain": [
              "{'val_acc': 0.12232990562915802, 'val_loss': 2.3181021213531494}"
            ]
          },
          "metadata": {
            "tags": []
          },
          "execution_count": 128
        }
      ]
    },
    {
      "cell_type": "code",
      "metadata": {
        "colab": {
          "base_uri": "https://localhost:8080/"
        },
        "id": "gjpmwlJQHHDB",
        "outputId": "98322623-1a35-4d3b-9254-7fdbe7cec972"
      },
      "source": [
        "model2.load_state_dict(torch.load('CIFAR-logistic.pth'))\n",
        "model2.state_dict()"
      ],
      "execution_count": 129,
      "outputs": [
        {
          "output_type": "execute_result",
          "data": {
            "text/plain": [
              "OrderedDict([('linear.weight',\n",
              "              tensor([[-0.0200, -0.0119, -0.0034,  ..., -0.0247, -0.0042,  0.0033],\n",
              "                      [-0.0126, -0.0120,  0.0130,  ...,  0.0074,  0.0202,  0.0032],\n",
              "                      [ 0.0101, -0.0093, -0.0046,  ..., -0.0245, -0.0159, -0.0188],\n",
              "                      ...,\n",
              "                      [ 0.0076,  0.0074,  0.0128,  ..., -0.0199, -0.0046, -0.0113],\n",
              "                      [-0.0141,  0.0027, -0.0066,  ...,  0.0041,  0.0231, -0.0036],\n",
              "                      [-0.0020,  0.0013,  0.0189,  ...,  0.0114,  0.0137,  0.0108]])),\n",
              "             ('linear.bias',\n",
              "              tensor([-0.0772,  0.0265,  0.0174, -0.0034,  0.0290, -0.0249,  0.0377,  0.0227,\n",
              "                      -0.0438,  0.0018]))])"
            ]
          },
          "metadata": {
            "tags": []
          },
          "execution_count": 129
        }
      ]
    },
    {
      "cell_type": "code",
      "metadata": {
        "colab": {
          "base_uri": "https://localhost:8080/"
        },
        "id": "BUxHa-UvHMHi",
        "outputId": "6144a714-d518-4038-b03e-e0e4ba08a440"
      },
      "source": [
        "test_loader = DataLoader(test_dataset, batch_size=256)\n",
        "result = evaluate(model2, test_loader)\n",
        "result"
      ],
      "execution_count": 130,
      "outputs": [
        {
          "output_type": "execute_result",
          "data": {
            "text/plain": [
              "{'val_acc': 0.3682617247104645, 'val_loss': 1.8282830715179443}"
            ]
          },
          "metadata": {
            "tags": []
          },
          "execution_count": 130
        }
      ]
    }
  ]
}