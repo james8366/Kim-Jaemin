{
  "nbformat": 4,
  "nbformat_minor": 0,
  "metadata": {
    "colab": {
      "name": "Untitled1.ipynb의 사본",
      "provenance": [],
      "collapsed_sections": [],
      "include_colab_link": true
    },
    "kernelspec": {
      "display_name": "Python 3",
      "name": "python3"
    },
    "language_info": {
      "name": "python"
    },
    "accelerator": "GPU",
    "widgets": {
      "application/vnd.jupyter.widget-state+json": {
        "867f64d9705d4ec8827f216b711e647a": {
          "model_module": "@jupyter-widgets/controls",
          "model_name": "HBoxModel",
          "state": {
            "_view_name": "HBoxView",
            "_dom_classes": [],
            "_model_name": "HBoxModel",
            "_view_module": "@jupyter-widgets/controls",
            "_model_module_version": "1.5.0",
            "_view_count": null,
            "_view_module_version": "1.5.0",
            "box_style": "",
            "layout": "IPY_MODEL_6630a4c57be44c42a2d0bff1a686fa28",
            "_model_module": "@jupyter-widgets/controls",
            "children": [
              "IPY_MODEL_daff0050dccc481ebb15a2a7a701a3b9",
              "IPY_MODEL_83eeec3418dd4875bd58b9c4534beac5"
            ]
          }
        },
        "6630a4c57be44c42a2d0bff1a686fa28": {
          "model_module": "@jupyter-widgets/base",
          "model_name": "LayoutModel",
          "state": {
            "_view_name": "LayoutView",
            "grid_template_rows": null,
            "right": null,
            "justify_content": null,
            "_view_module": "@jupyter-widgets/base",
            "overflow": null,
            "_model_module_version": "1.2.0",
            "_view_count": null,
            "flex_flow": null,
            "width": null,
            "min_width": null,
            "border": null,
            "align_items": null,
            "bottom": null,
            "_model_module": "@jupyter-widgets/base",
            "top": null,
            "grid_column": null,
            "overflow_y": null,
            "overflow_x": null,
            "grid_auto_flow": null,
            "grid_area": null,
            "grid_template_columns": null,
            "flex": null,
            "_model_name": "LayoutModel",
            "justify_items": null,
            "grid_row": null,
            "max_height": null,
            "align_content": null,
            "visibility": null,
            "align_self": null,
            "height": null,
            "min_height": null,
            "padding": null,
            "grid_auto_rows": null,
            "grid_gap": null,
            "max_width": null,
            "order": null,
            "_view_module_version": "1.2.0",
            "grid_template_areas": null,
            "object_position": null,
            "object_fit": null,
            "grid_auto_columns": null,
            "margin": null,
            "display": null,
            "left": null
          }
        },
        "daff0050dccc481ebb15a2a7a701a3b9": {
          "model_module": "@jupyter-widgets/controls",
          "model_name": "FloatProgressModel",
          "state": {
            "_view_name": "ProgressView",
            "style": "IPY_MODEL_1c8434174c3e45f79f1b6210a98ce99c",
            "_dom_classes": [],
            "description": "",
            "_model_name": "FloatProgressModel",
            "bar_style": "success",
            "max": 170498071,
            "_view_module": "@jupyter-widgets/controls",
            "_model_module_version": "1.5.0",
            "value": 170498071,
            "_view_count": null,
            "_view_module_version": "1.5.0",
            "orientation": "horizontal",
            "min": 0,
            "description_tooltip": null,
            "_model_module": "@jupyter-widgets/controls",
            "layout": "IPY_MODEL_6d62fe39c40842f3b478acecd602e8a2"
          }
        },
        "83eeec3418dd4875bd58b9c4534beac5": {
          "model_module": "@jupyter-widgets/controls",
          "model_name": "HTMLModel",
          "state": {
            "_view_name": "HTMLView",
            "style": "IPY_MODEL_251d1805f0bb47aca6c050a7dff90eb3",
            "_dom_classes": [],
            "description": "",
            "_model_name": "HTMLModel",
            "placeholder": "​",
            "_view_module": "@jupyter-widgets/controls",
            "_model_module_version": "1.5.0",
            "value": " 170499072/? [00:30&lt;00:00, 5614435.16it/s]",
            "_view_count": null,
            "_view_module_version": "1.5.0",
            "description_tooltip": null,
            "_model_module": "@jupyter-widgets/controls",
            "layout": "IPY_MODEL_869a436eae2f40329189d66f7da46cbc"
          }
        },
        "1c8434174c3e45f79f1b6210a98ce99c": {
          "model_module": "@jupyter-widgets/controls",
          "model_name": "ProgressStyleModel",
          "state": {
            "_view_name": "StyleView",
            "_model_name": "ProgressStyleModel",
            "description_width": "initial",
            "_view_module": "@jupyter-widgets/base",
            "_model_module_version": "1.5.0",
            "_view_count": null,
            "_view_module_version": "1.2.0",
            "bar_color": null,
            "_model_module": "@jupyter-widgets/controls"
          }
        },
        "6d62fe39c40842f3b478acecd602e8a2": {
          "model_module": "@jupyter-widgets/base",
          "model_name": "LayoutModel",
          "state": {
            "_view_name": "LayoutView",
            "grid_template_rows": null,
            "right": null,
            "justify_content": null,
            "_view_module": "@jupyter-widgets/base",
            "overflow": null,
            "_model_module_version": "1.2.0",
            "_view_count": null,
            "flex_flow": null,
            "width": null,
            "min_width": null,
            "border": null,
            "align_items": null,
            "bottom": null,
            "_model_module": "@jupyter-widgets/base",
            "top": null,
            "grid_column": null,
            "overflow_y": null,
            "overflow_x": null,
            "grid_auto_flow": null,
            "grid_area": null,
            "grid_template_columns": null,
            "flex": null,
            "_model_name": "LayoutModel",
            "justify_items": null,
            "grid_row": null,
            "max_height": null,
            "align_content": null,
            "visibility": null,
            "align_self": null,
            "height": null,
            "min_height": null,
            "padding": null,
            "grid_auto_rows": null,
            "grid_gap": null,
            "max_width": null,
            "order": null,
            "_view_module_version": "1.2.0",
            "grid_template_areas": null,
            "object_position": null,
            "object_fit": null,
            "grid_auto_columns": null,
            "margin": null,
            "display": null,
            "left": null
          }
        },
        "251d1805f0bb47aca6c050a7dff90eb3": {
          "model_module": "@jupyter-widgets/controls",
          "model_name": "DescriptionStyleModel",
          "state": {
            "_view_name": "StyleView",
            "_model_name": "DescriptionStyleModel",
            "description_width": "",
            "_view_module": "@jupyter-widgets/base",
            "_model_module_version": "1.5.0",
            "_view_count": null,
            "_view_module_version": "1.2.0",
            "_model_module": "@jupyter-widgets/controls"
          }
        },
        "869a436eae2f40329189d66f7da46cbc": {
          "model_module": "@jupyter-widgets/base",
          "model_name": "LayoutModel",
          "state": {
            "_view_name": "LayoutView",
            "grid_template_rows": null,
            "right": null,
            "justify_content": null,
            "_view_module": "@jupyter-widgets/base",
            "overflow": null,
            "_model_module_version": "1.2.0",
            "_view_count": null,
            "flex_flow": null,
            "width": null,
            "min_width": null,
            "border": null,
            "align_items": null,
            "bottom": null,
            "_model_module": "@jupyter-widgets/base",
            "top": null,
            "grid_column": null,
            "overflow_y": null,
            "overflow_x": null,
            "grid_auto_flow": null,
            "grid_area": null,
            "grid_template_columns": null,
            "flex": null,
            "_model_name": "LayoutModel",
            "justify_items": null,
            "grid_row": null,
            "max_height": null,
            "align_content": null,
            "visibility": null,
            "align_self": null,
            "height": null,
            "min_height": null,
            "padding": null,
            "grid_auto_rows": null,
            "grid_gap": null,
            "max_width": null,
            "order": null,
            "_view_module_version": "1.2.0",
            "grid_template_areas": null,
            "object_position": null,
            "object_fit": null,
            "grid_auto_columns": null,
            "margin": null,
            "display": null,
            "left": null
          }
        }
      }
    }
  },
  "cells": [
    {
      "cell_type": "markdown",
      "metadata": {
        "id": "view-in-github",
        "colab_type": "text"
      },
      "source": [
        "<a href=\"https://colab.research.google.com/github/kimjaemin8366/Kim-Jaemin/blob/master/Untitled1_ipynb%EC%9D%98_%EC%82%AC%EB%B3%B8.ipynb\" target=\"_parent\"><img src=\"https://colab.research.google.com/assets/colab-badge.svg\" alt=\"Open In Colab\"/></a>"
      ]
    },
    {
      "cell_type": "code",
      "metadata": {
        "id": "-VePPAD6UC9b"
      },
      "source": [
        "import torch\n",
        "import torchvision\n",
        "from torchvision.datasets import CIFAR10"
      ],
      "execution_count": 2,
      "outputs": []
    },
    {
      "cell_type": "code",
      "metadata": {
        "colab": {
          "base_uri": "https://localhost:8080/",
          "height": 103,
          "referenced_widgets": [
            "867f64d9705d4ec8827f216b711e647a",
            "6630a4c57be44c42a2d0bff1a686fa28",
            "daff0050dccc481ebb15a2a7a701a3b9",
            "83eeec3418dd4875bd58b9c4534beac5",
            "1c8434174c3e45f79f1b6210a98ce99c",
            "6d62fe39c40842f3b478acecd602e8a2",
            "251d1805f0bb47aca6c050a7dff90eb3",
            "869a436eae2f40329189d66f7da46cbc"
          ]
        },
        "id": "-FDd-ZJbWFM1",
        "outputId": "9d870d9b-7e5c-45ec-b34c-0ec6e2e4521b"
      },
      "source": [
        "dataset = CIFAR10(root='./data/', download=True)"
      ],
      "execution_count": 3,
      "outputs": [
        {
          "output_type": "stream",
          "text": [
            "Downloading https://www.cs.toronto.edu/~kriz/cifar-10-python.tar.gz to ./data/cifar-10-python.tar.gz\n"
          ],
          "name": "stdout"
        },
        {
          "output_type": "display_data",
          "data": {
            "application/vnd.jupyter.widget-view+json": {
              "model_id": "867f64d9705d4ec8827f216b711e647a",
              "version_minor": 0,
              "version_major": 2
            },
            "text/plain": [
              "HBox(children=(FloatProgress(value=0.0, max=170498071.0), HTML(value='')))"
            ]
          },
          "metadata": {
            "tags": []
          }
        },
        {
          "output_type": "stream",
          "text": [
            "\n",
            "Extracting ./data/cifar-10-python.tar.gz to ./data/\n"
          ],
          "name": "stdout"
        }
      ]
    },
    {
      "cell_type": "code",
      "metadata": {
        "colab": {
          "base_uri": "https://localhost:8080/"
        },
        "id": "0fdo-LhmWJXl",
        "outputId": "ee879eb2-7fb4-4a82-cb7a-123bf90d5571"
      },
      "source": [
        "len(dataset)"
      ],
      "execution_count": 4,
      "outputs": [
        {
          "output_type": "execute_result",
          "data": {
            "text/plain": [
              "50000"
            ]
          },
          "metadata": {
            "tags": []
          },
          "execution_count": 4
        }
      ]
    },
    {
      "cell_type": "code",
      "metadata": {
        "colab": {
          "base_uri": "https://localhost:8080/"
        },
        "id": "nWGQCHgrW4P3",
        "outputId": "aedb99a8-2785-4c92-8b91-ba6cc33631e9"
      },
      "source": [
        "test_dataset = CIFAR10(root='data/', train=False)\n",
        "len(test_dataset)"
      ],
      "execution_count": 5,
      "outputs": [
        {
          "output_type": "execute_result",
          "data": {
            "text/plain": [
              "10000"
            ]
          },
          "metadata": {
            "tags": []
          },
          "execution_count": 5
        }
      ]
    },
    {
      "cell_type": "code",
      "metadata": {
        "colab": {
          "base_uri": "https://localhost:8080/"
        },
        "id": "RHuUcvvRW-3N",
        "outputId": "f071f35d-2ae3-4671-dad5-ebd2970d6499"
      },
      "source": [
        "dataset[0]"
      ],
      "execution_count": 6,
      "outputs": [
        {
          "output_type": "execute_result",
          "data": {
            "text/plain": [
              "(<PIL.Image.Image image mode=RGB size=32x32 at 0x7FA42BAF2710>, 6)"
            ]
          },
          "metadata": {
            "tags": []
          },
          "execution_count": 6
        }
      ]
    },
    {
      "cell_type": "code",
      "metadata": {
        "id": "IbhTRvG6XYEd"
      },
      "source": [
        "import matplotlib.pyplot as pit\n",
        "%matplotlib inline"
      ],
      "execution_count": 7,
      "outputs": []
    },
    {
      "cell_type": "code",
      "metadata": {
        "colab": {
          "base_uri": "https://localhost:8080/",
          "height": 284
        },
        "id": "vocTD5JDXxe6",
        "outputId": "45b7d115-96cc-405d-9ccc-87f02cc511da"
      },
      "source": [
        "image, label = dataset[0]\n",
        "pit.imshow(image, cmap='gray')\n",
        "print('Label:', label)"
      ],
      "execution_count": 8,
      "outputs": [
        {
          "output_type": "stream",
          "text": [
            "Label: 6\n"
          ],
          "name": "stdout"
        },
        {
          "output_type": "display_data",
          "data": {
            "image/png": "[encoded data removed]",
            "text/plain": [
              "<Figure size 432x288 with 1 Axes>"
            ]
          },
          "metadata": {
            "tags": [],
            "needs_background": "light"
          }
        }
      ]
    },
    {
      "cell_type": "code",
      "metadata": {
        "colab": {
          "base_uri": "https://localhost:8080/",
          "height": 284
        },
        "id": "oYZX6Y58ZLcG",
        "outputId": "0a5fd076-1769-431d-9ee1-0e8e960b0864"
      },
      "source": [
        "image, label = dataset[10]\n",
        "pit.imshow(image, cmap='gray')\n",
        "print('Label:', label)"
      ],
      "execution_count": 9,
      "outputs": [
        {
          "output_type": "stream",
          "text": [
            "Label: 4\n"
          ],
          "name": "stdout"
        },
        {
          "output_type": "display_data",
          "data": {
            "image/png": "[encoded data removed]",
            "text/plain": [
              "<Figure size 432x288 with 1 Axes>"
            ]
          },
          "metadata": {
            "tags": [],
            "needs_background": "light"
          }
        }
      ]
    },
    {
      "cell_type": "code",
      "metadata": {
        "id": "9edJvOufZS47"
      },
      "source": [
        "import torchvision.transforms as transforms"
      ],
      "execution_count": 10,
      "outputs": []
    },
    {
      "cell_type": "code",
      "metadata": {
        "id": "3nDqTKTOZWNo"
      },
      "source": [
        "dataset = CIFAR10(root='data/', train=True, transform = transforms.ToTensor())"
      ],
      "execution_count": 11,
      "outputs": []
    },
    {
      "cell_type": "code",
      "metadata": {
        "colab": {
          "base_uri": "https://localhost:8080/"
        },
        "id": "U6Fla3K9Zj6g",
        "outputId": "4e91a87a-1eb6-44cf-fd1a-c1137065d581"
      },
      "source": [
        "img_tensor, label = dataset[0]\n",
        "print(img_tensor.shape, label)"
      ],
      "execution_count": 12,
      "outputs": [
        {
          "output_type": "stream",
          "text": [
            "torch.Size([3, 32, 32]) 6\n"
          ],
          "name": "stdout"
        }
      ]
    },
    {
      "cell_type": "code",
      "metadata": {
        "colab": {
          "base_uri": "https://localhost:8080/"
        },
        "id": "4nVPj4g6aLcH",
        "outputId": "c05eeebb-6a50-460f-fcbc-bb03d2766b0b"
      },
      "source": [
        "print(img_tensor[0,10:15,10:15])\n",
        "print(torch.max(img_tensor), torch.min(img_tensor))"
      ],
      "execution_count": 13,
      "outputs": [
        {
          "output_type": "stream",
          "text": [
            "tensor([[0.3137, 0.3804, 0.3529, 0.3843, 0.5373],\n",
            "        [0.4353, 0.5725, 0.5333, 0.6392, 0.6627],\n",
            "        [0.5412, 0.8353, 0.6980, 0.7490, 0.8275],\n",
            "        [0.6471, 0.8980, 0.7176, 0.7490, 0.9373],\n",
            "        [0.7529, 0.7255, 0.5686, 0.7961, 0.8745]])\n",
            "tensor(1.) tensor(0.)\n"
          ],
          "name": "stdout"
        }
      ]
    },
    {
      "cell_type": "code",
      "metadata": {
        "colab": {
          "base_uri": "https://localhost:8080/",
          "height": 283
        },
        "id": "lmwIxesJbNkG",
        "outputId": "9d57b310-41f4-4025-ea59-a128002a17f4"
      },
      "source": [
        "pit.imshow(img_tensor[0,10:15,10:15], cmap='gray')"
      ],
      "execution_count": 14,
      "outputs": [
        {
          "output_type": "execute_result",
          "data": {
            "text/plain": [
              "<matplotlib.image.AxesImage at 0x7fa42bc36f10>"
            ]
          },
          "metadata": {
            "tags": []
          },
          "execution_count": 14
        },
        {
          "output_type": "display_data",
          "data": {
            "image/png": "[encoded data removed]",
            "text/plain": [
              "<Figure size 432x288 with 1 Axes>"
            ]
          },
          "metadata": {
            "tags": [],
            "needs_background": "light"
          }
        }
      ]
    },
    {
      "cell_type": "code",
      "metadata": {
        "colab": {
          "base_uri": "https://localhost:8080/"
        },
        "id": "lL74TVlrfRIE",
        "outputId": "282e37e8-43b7-4493-f1dc-f900b625548d"
      },
      "source": [
        "from torch.utils.data import random_split\n",
        "train_ds, val_ds = random_split(dataset,[40000, 10000])\n",
        "len(train_ds), len(val_ds)"
      ],
      "execution_count": 15,
      "outputs": [
        {
          "output_type": "execute_result",
          "data": {
            "text/plain": [
              "(40000, 10000)"
            ]
          },
          "metadata": {
            "tags": []
          },
          "execution_count": 15
        }
      ]
    },
    {
      "cell_type": "code",
      "metadata": {
        "id": "RsE7XpjVgO6g"
      },
      "source": [
        "from torch.utils.data import DataLoader\n",
        "batch_size = 128\n",
        "\n",
        "train_loader = DataLoader(train_ds, batch_size, shuffle=True)\n",
        "val_loader = DataLoader(val_ds, batch_size)"
      ],
      "execution_count": 16,
      "outputs": []
    },
    {
      "cell_type": "code",
      "metadata": {
        "id": "9UiKm6N8g2rL"
      },
      "source": [
        "import torch.nn as nn\n",
        "input_size = 3*32*32\n",
        "num_classes = 10\n",
        "model = nn.Linear(input_size, num_classes)"
      ],
      "execution_count": 60,
      "outputs": []
    },
    {
      "cell_type": "code",
      "metadata": {
        "colab": {
          "base_uri": "https://localhost:8080/"
        },
        "id": "z_UoFTgIhCwq",
        "outputId": "222f4fde-8b74-4a71-d8dc-dcfe4556912e"
      },
      "source": [
        "print(model.weight.shape)\n",
        "model.weight"
      ],
      "execution_count": 61,
      "outputs": [
        {
          "output_type": "stream",
          "text": [
            "torch.Size([10, 3072])\n"
          ],
          "name": "stdout"
        },
        {
          "output_type": "execute_result",
          "data": {
            "text/plain": [
              "Parameter containing:\n",
              "tensor([[ 0.0070,  0.0021,  0.0111,  ...,  0.0100,  0.0071,  0.0129],\n",
              "        [ 0.0125, -0.0096,  0.0044,  ..., -0.0024, -0.0006,  0.0145],\n",
              "        [ 0.0123,  0.0145,  0.0040,  ..., -0.0025,  0.0158, -0.0115],\n",
              "        ...,\n",
              "        [ 0.0024, -0.0026, -0.0022,  ...,  0.0105,  0.0177, -0.0057],\n",
              "        [-0.0040, -0.0102,  0.0131,  ..., -0.0055,  0.0042,  0.0009],\n",
              "        [-0.0161,  0.0007, -0.0003,  ...,  0.0125, -0.0150,  0.0152]],\n",
              "       requires_grad=True)"
            ]
          },
          "metadata": {
            "tags": []
          },
          "execution_count": 61
        }
      ]
    },
    {
      "cell_type": "code",
      "metadata": {
        "colab": {
          "base_uri": "https://localhost:8080/"
        },
        "id": "ylhe23v0hGX1",
        "outputId": "c676941e-fee4-43f9-e087-dbaa73e145c4"
      },
      "source": [
        "print(model.bias.shape)\n",
        "model.bias"
      ],
      "execution_count": 62,
      "outputs": [
        {
          "output_type": "stream",
          "text": [
            "torch.Size([10])\n"
          ],
          "name": "stdout"
        },
        {
          "output_type": "execute_result",
          "data": {
            "text/plain": [
              "Parameter containing:\n",
              "tensor([ 0.0064, -0.0128,  0.0048, -0.0108, -0.0045,  0.0036,  0.0177, -0.0080,\n",
              "        -0.0092, -0.0149], requires_grad=True)"
            ]
          },
          "metadata": {
            "tags": []
          },
          "execution_count": 62
        }
      ]
    },
    {
      "cell_type": "code",
      "metadata": {
        "colab": {
          "base_uri": "https://localhost:8080/"
        },
        "id": "SYhk-Yf4jmfO",
        "outputId": "4196208e-436e-4c9c-8803-3c6a55bad9f7"
      },
      "source": [
        "for images, labels in train_loader:\n",
        "  print(labels)\n",
        "  print(images.shape)\n",
        "  outputs = model(images.view(-1,3072))\n",
        "  print(outputs)\n",
        "  break"
      ],
      "execution_count": 64,
      "outputs": [
        {
          "output_type": "stream",
          "text": [
            "tensor([4, 3, 0, 9, 1, 6, 0, 1, 4, 7, 5, 3, 7, 6, 3, 8, 1, 2, 8, 6, 5, 1, 3, 8,\n",
            "        4, 4, 4, 8, 6, 0, 5, 9, 1, 2, 9, 2, 8, 5, 1, 3, 1, 9, 7, 5, 8, 7, 8, 2,\n",
            "        8, 7, 8, 4, 8, 5, 0, 7, 4, 5, 1, 4, 1, 7, 6, 9, 5, 4, 1, 8, 7, 9, 7, 6,\n",
            "        0, 7, 6, 6, 0, 6, 6, 9, 9, 2, 9, 5, 8, 7, 5, 2, 1, 9, 8, 8, 8, 7, 9, 1,\n",
            "        3, 2, 8, 2, 0, 2, 7, 9, 4, 6, 3, 2, 9, 3, 6, 1, 4, 5, 6, 7, 8, 1, 5, 9,\n",
            "        7, 4, 1, 7, 0, 3, 9, 7])\n",
            "torch.Size([128, 3, 32, 32])\n",
            "tensor([[ 0.2943, -0.0646, -0.1981,  ...,  0.1254,  0.3794,  0.0520],\n",
            "        [ 0.4083, -0.2989, -0.3661,  ...,  0.2524,  0.5593,  0.2434],\n",
            "        [ 0.3888, -0.0765, -0.3324,  ...,  0.1655,  0.5848,  0.1733],\n",
            "        ...,\n",
            "        [ 0.1806,  0.0023, -0.1510,  ...,  0.1139,  0.3687,  0.2359],\n",
            "        [ 0.1796, -0.0157, -0.2166,  ...,  0.1583,  0.7231,  0.0697],\n",
            "        [ 0.2678, -0.0283, -0.1249,  ...,  0.1438,  0.2870,  0.1148]],\n",
            "       grad_fn=<AddmmBackward>)\n"
          ],
          "name": "stdout"
        }
      ]
    },
    {
      "cell_type": "code",
      "metadata": {
        "colab": {
          "base_uri": "https://localhost:8080/"
        },
        "id": "oTnQYwBdW075",
        "outputId": "299e594e-e77d-4e75-9e38-dd9509d59c1c"
      },
      "source": [
        "len(outputs)"
      ],
      "execution_count": 65,
      "outputs": [
        {
          "output_type": "execute_result",
          "data": {
            "text/plain": [
              "128"
            ]
          },
          "metadata": {
            "tags": []
          },
          "execution_count": 65
        }
      ]
    },
    {
      "cell_type": "code",
      "metadata": {
        "id": "WqLbxowhj8Kx",
        "colab": {
          "base_uri": "https://localhost:8080/"
        },
        "outputId": "d41f6d7e-e835-4547-be5e-d74576bd56e6"
      },
      "source": [
        "images.shape"
      ],
      "execution_count": 66,
      "outputs": [
        {
          "output_type": "execute_result",
          "data": {
            "text/plain": [
              "torch.Size([128, 3, 32, 32])"
            ]
          },
          "metadata": {
            "tags": []
          },
          "execution_count": 66
        }
      ]
    },
    {
      "cell_type": "code",
      "metadata": {
        "colab": {
          "base_uri": "https://localhost:8080/"
        },
        "id": "a_55b2jzkEjr",
        "outputId": "42b874db-7682-4ee3-cf78-27212b3a7014"
      },
      "source": [
        "images.reshape(128, 3072).shape"
      ],
      "execution_count": 72,
      "outputs": [
        {
          "output_type": "execute_result",
          "data": {
            "text/plain": [
              "torch.Size([128, 3072])"
            ]
          },
          "metadata": {
            "tags": []
          },
          "execution_count": 72
        }
      ]
    },
    {
      "cell_type": "code",
      "metadata": {
        "id": "Sad4hpu4krJu"
      },
      "source": [
        "class MnistModel(nn.Module):\n",
        "  def __init__(self):\n",
        "    super().__init__()\n",
        "    self.linear = nn.Linear(input_size, num_classes)\n",
        "\n",
        "  def forward(self,xb):\n",
        "    xb = xb.reshape(-1, 3072)\n",
        "    out = self.linear(xb)\n",
        "    return out\n",
        "model = MnistModel()"
      ],
      "execution_count": 73,
      "outputs": []
    },
    {
      "cell_type": "code",
      "metadata": {
        "colab": {
          "base_uri": "https://localhost:8080/"
        },
        "id": "oNXo3PqMtxjo",
        "outputId": "05a73a02-fc16-42fd-ef46-c22c134d670d"
      },
      "source": [
        "model.linear"
      ],
      "execution_count": 74,
      "outputs": [
        {
          "output_type": "execute_result",
          "data": {
            "text/plain": [
              "Linear(in_features=3072, out_features=10, bias=True)"
            ]
          },
          "metadata": {
            "tags": []
          },
          "execution_count": 74
        }
      ]
    },
    {
      "cell_type": "code",
      "metadata": {
        "colab": {
          "base_uri": "https://localhost:8080/"
        },
        "id": "khyGKv3HuCkf",
        "outputId": "a3a3016b-2e46-4866-ae25-10b4ffc5dabb"
      },
      "source": [
        "print(model.linear.weight.shape, model.linear.bias.shape)\n",
        "list(model.parameters())"
      ],
      "execution_count": 75,
      "outputs": [
        {
          "output_type": "stream",
          "text": [
            "torch.Size([10, 3072]) torch.Size([10])\n"
          ],
          "name": "stdout"
        },
        {
          "output_type": "execute_result",
          "data": {
            "text/plain": [
              "[Parameter containing:\n",
              " tensor([[ 0.0159,  0.0050, -0.0022,  ...,  0.0094, -0.0129, -0.0106],\n",
              "         [ 0.0014, -0.0042, -0.0004,  ..., -0.0052, -0.0122,  0.0171],\n",
              "         [ 0.0174,  0.0155,  0.0047,  ..., -0.0165,  0.0100,  0.0159],\n",
              "         ...,\n",
              "         [ 0.0140, -0.0154,  0.0179,  ...,  0.0170,  0.0005,  0.0063],\n",
              "         [-0.0168, -0.0019,  0.0026,  ...,  0.0080,  0.0152,  0.0083],\n",
              "         [ 0.0170, -0.0022, -0.0025,  ..., -0.0039, -0.0129,  0.0142]],\n",
              "        requires_grad=True), Parameter containing:\n",
              " tensor([ 0.0175,  0.0022, -0.0106, -0.0165, -0.0031,  0.0116, -0.0148, -0.0019,\n",
              "         -0.0157,  0.0044], requires_grad=True)]"
            ]
          },
          "metadata": {
            "tags": []
          },
          "execution_count": 75
        }
      ]
    },
    {
      "cell_type": "code",
      "metadata": {
        "colab": {
          "base_uri": "https://localhost:8080/"
        },
        "id": "sbkJuI38uzfv",
        "outputId": "e15ebc44-6c96-4eeb-efec-80392767157f"
      },
      "source": [
        "for images, labels in train_loader:\n",
        "  print(images.shape)\n",
        "  outputs = model(images)\n",
        "  break\n",
        "print('output.shape : ', outputs.shape)\n",
        "print('Sample outputs :\\n', outputs[:2].data)"
      ],
      "execution_count": 76,
      "outputs": [
        {
          "output_type": "stream",
          "text": [
            "torch.Size([128, 3, 32, 32])\n",
            "output.shape :  torch.Size([128, 10])\n",
            "Sample outputs :\n",
            " tensor([[-0.5845, -0.2196,  0.4061,  0.3573,  0.2457,  0.4533, -0.6330,  0.2054,\n",
            "         -0.2649,  0.1483],\n",
            "        [-0.1908, -0.1730,  0.1036,  0.1497,  0.1609,  0.0884, -0.1774, -0.0931,\n",
            "         -0.1556, -0.1129]])\n"
          ],
          "name": "stdout"
        }
      ]
    },
    {
      "cell_type": "code",
      "metadata": {
        "id": "aYvTjvuSxg4i"
      },
      "source": [
        "import torch.nn.functional as F"
      ],
      "execution_count": 77,
      "outputs": []
    },
    {
      "cell_type": "code",
      "metadata": {
        "colab": {
          "base_uri": "https://localhost:8080/"
        },
        "id": "bblBjLAQxkRR",
        "outputId": "58c9c434-5161-4294-b803-ab1d551e41ae"
      },
      "source": [
        "len(outputs)"
      ],
      "execution_count": 78,
      "outputs": [
        {
          "output_type": "execute_result",
          "data": {
            "text/plain": [
              "128"
            ]
          },
          "metadata": {
            "tags": []
          },
          "execution_count": 78
        }
      ]
    },
    {
      "cell_type": "code",
      "metadata": {
        "colab": {
          "base_uri": "https://localhost:8080/"
        },
        "id": "ErTmOoy0y6kY",
        "outputId": "b406f890-7047-435a-faf9-02b2ff847847"
      },
      "source": [
        "probs = F.softmax(outputs, dim=1)\n",
        "\n",
        "print(\"sample probabilities:\\n\", probs[:2].data)\n",
        "\n",
        "print(\"Sum: \", torch.sum(probs[0]).item())"
      ],
      "execution_count": 79,
      "outputs": [
        {
          "output_type": "stream",
          "text": [
            "sample probabilities:\n",
            " tensor([[0.0515, 0.0741, 0.1386, 0.1320, 0.1181, 0.1453, 0.0490, 0.1134, 0.0709,\n",
            "         0.1071],\n",
            "        [0.0852, 0.0867, 0.1143, 0.1197, 0.1211, 0.1126, 0.0863, 0.0939, 0.0882,\n",
            "         0.0921]])\n",
            "Sum:  1.0\n"
          ],
          "name": "stdout"
        }
      ]
    },
    {
      "cell_type": "code",
      "metadata": {
        "colab": {
          "base_uri": "https://localhost:8080/"
        },
        "id": "nae5Pyd01hdT",
        "outputId": "22c8d027-4bc5-4b64-ef10-5815b4ee109a"
      },
      "source": [
        "max_probs, preds = torch.max(probs, dim=1)\n",
        "print(preds)\n",
        "print(max_probs)"
      ],
      "execution_count": 80,
      "outputs": [
        {
          "output_type": "stream",
          "text": [
            "tensor([5, 4, 4, 5, 3, 9, 5, 5, 5, 9, 5, 3, 3, 5, 5, 5, 5, 5, 4, 5, 4, 4, 5, 9,\n",
            "        5, 4, 4, 5, 5, 5, 9, 3, 5, 5, 5, 5, 5, 5, 4, 2, 4, 5, 5, 5, 5, 5, 5, 5,\n",
            "        4, 5, 3, 4, 5, 5, 5, 9, 5, 4, 4, 5, 9, 4, 4, 3, 5, 5, 4, 3, 9, 5, 3, 7,\n",
            "        3, 5, 5, 5, 9, 3, 5, 4, 5, 5, 3, 3, 5, 5, 5, 4, 5, 3, 3, 5, 4, 3, 3, 5,\n",
            "        5, 5, 3, 5, 5, 2, 3, 5, 4, 5, 4, 7, 4, 9, 5, 4, 3, 4, 3, 3, 5, 5, 2, 5,\n",
            "        4, 5, 4, 3, 5, 3, 4, 5])\n",
            "tensor([0.1453, 0.1211, 0.1277, 0.1488, 0.1534, 0.1337, 0.1486, 0.1283, 0.1504,\n",
            "        0.1392, 0.1526, 0.1517, 0.1436, 0.1608, 0.1610, 0.1429, 0.1474, 0.1387,\n",
            "        0.1345, 0.1619, 0.1555, 0.1316, 0.1493, 0.1331, 0.1363, 0.1490, 0.1291,\n",
            "        0.1305, 0.1296, 0.1529, 0.1524, 0.1410, 0.1415, 0.1365, 0.1449, 0.1788,\n",
            "        0.1445, 0.1693, 0.1533, 0.1406, 0.1535, 0.1656, 0.1460, 0.1399, 0.1708,\n",
            "        0.1431, 0.1270, 0.1497, 0.1293, 0.1597, 0.1534, 0.1457, 0.1693, 0.1397,\n",
            "        0.1467, 0.1345, 0.1289, 0.1455, 0.1397, 0.1620, 0.1228, 0.1360, 0.1591,\n",
            "        0.1449, 0.1510, 0.1505, 0.1711, 0.1226, 0.1203, 0.1247, 0.1365, 0.1232,\n",
            "        0.1341, 0.1305, 0.1348, 0.1663, 0.1322, 0.1291, 0.1537, 0.1424, 0.1518,\n",
            "        0.1332, 0.1418, 0.1250, 0.1412, 0.1294, 0.1628, 0.1242, 0.1671, 0.1483,\n",
            "        0.1334, 0.1540, 0.1638, 0.1343, 0.1590, 0.1501, 0.1359, 0.1483, 0.1415,\n",
            "        0.1459, 0.1480, 0.1382, 0.1403, 0.1967, 0.1377, 0.1452, 0.1502, 0.1270,\n",
            "        0.1391, 0.1186, 0.1249, 0.1512, 0.1358, 0.1466, 0.1261, 0.1326, 0.1624,\n",
            "        0.1536, 0.1273, 0.1535, 0.1516, 0.1871, 0.1550, 0.1520, 0.1477, 0.1710,\n",
            "        0.1410, 0.1893], grad_fn=<MaxBackward0>)\n"
          ],
          "name": "stdout"
        }
      ]
    },
    {
      "cell_type": "code",
      "metadata": {
        "colab": {
          "base_uri": "https://localhost:8080/"
        },
        "id": "qUj58bqh7kOS",
        "outputId": "4b150665-b409-4400-cff2-bdebeb738c77"
      },
      "source": [
        "labels"
      ],
      "execution_count": 81,
      "outputs": [
        {
          "output_type": "execute_result",
          "data": {
            "text/plain": [
              "tensor([7, 2, 6, 0, 9, 2, 0, 6, 7, 1, 8, 4, 6, 3, 1, 5, 7, 4, 6, 4, 0, 8, 9, 5,\n",
              "        5, 9, 4, 5, 6, 5, 1, 7, 4, 2, 7, 0, 1, 2, 3, 6, 8, 7, 2, 4, 0, 0, 4, 1,\n",
              "        2, 7, 5, 4, 2, 5, 9, 3, 2, 4, 4, 7, 5, 8, 5, 7, 8, 5, 5, 4, 6, 7, 3, 1,\n",
              "        2, 0, 4, 3, 6, 5, 0, 2, 7, 5, 5, 3, 3, 3, 1, 2, 1, 8, 0, 7, 3, 8, 1, 5,\n",
              "        6, 1, 4, 1, 5, 5, 1, 7, 2, 2, 4, 3, 6, 0, 4, 0, 2, 5, 4, 6, 9, 5, 1, 3,\n",
              "        2, 7, 5, 4, 8, 6, 3, 0])"
            ]
          },
          "metadata": {
            "tags": []
          },
          "execution_count": 81
        }
      ]
    },
    {
      "cell_type": "code",
      "metadata": {
        "colab": {
          "base_uri": "https://localhost:8080/"
        },
        "id": "71Qz1w7s7no9",
        "outputId": "2b0ca7f7-120a-4143-db66-b4d7217f117c"
      },
      "source": [
        "outputs[:2]"
      ],
      "execution_count": 82,
      "outputs": [
        {
          "output_type": "execute_result",
          "data": {
            "text/plain": [
              "tensor([[-0.5845, -0.2196,  0.4061,  0.3573,  0.2457,  0.4533, -0.6330,  0.2054,\n",
              "         -0.2649,  0.1483],\n",
              "        [-0.1908, -0.1730,  0.1036,  0.1497,  0.1609,  0.0884, -0.1774, -0.0931,\n",
              "         -0.1556, -0.1129]], grad_fn=<SliceBackward>)"
            ]
          },
          "metadata": {
            "tags": []
          },
          "execution_count": 82
        }
      ]
    },
    {
      "cell_type": "code",
      "metadata": {
        "colab": {
          "base_uri": "https://localhost:8080/"
        },
        "id": "K6dYZUsD7u0q",
        "outputId": "ba2f3a89-69cc-433a-f5fe-0c7699fe0f5f"
      },
      "source": [
        "torch.sum(preds==labels)"
      ],
      "execution_count": 83,
      "outputs": [
        {
          "output_type": "execute_result",
          "data": {
            "text/plain": [
              "tensor(17)"
            ]
          },
          "metadata": {
            "tags": []
          },
          "execution_count": 83
        }
      ]
    },
    {
      "cell_type": "code",
      "metadata": {
        "id": "bQ69J0PW7yUB"
      },
      "source": [
        "def accuracy(outputs, labels):\n",
        "  _, preds = torch.max(outputs, dim=1)\n",
        "  return torch.tensor(torch.sum(preds==labels).item() / len(preds))"
      ],
      "execution_count": 84,
      "outputs": []
    },
    {
      "cell_type": "code",
      "metadata": {
        "colab": {
          "base_uri": "https://localhost:8080/"
        },
        "id": "Ye4ZcL7Q7_v2",
        "outputId": "6e60e593-72c2-4e28-e626-b07e9756dab1"
      },
      "source": [
        "accuracy(outputs, labels)"
      ],
      "execution_count": 85,
      "outputs": [
        {
          "output_type": "execute_result",
          "data": {
            "text/plain": [
              "tensor(0.1328)"
            ]
          },
          "metadata": {
            "tags": []
          },
          "execution_count": 85
        }
      ]
    },
    {
      "cell_type": "code",
      "metadata": {
        "colab": {
          "base_uri": "https://localhost:8080/"
        },
        "id": "vYA378NR8U1P",
        "outputId": "2ae44987-fe7c-4400-8873-daee5cbe483d"
      },
      "source": [
        "probs"
      ],
      "execution_count": 86,
      "outputs": [
        {
          "output_type": "execute_result",
          "data": {
            "text/plain": [
              "tensor([[0.0515, 0.0741, 0.1386,  ..., 0.1134, 0.0709, 0.1071],\n",
              "        [0.0852, 0.0867, 0.1143,  ..., 0.0939, 0.0882, 0.0921],\n",
              "        [0.0749, 0.0782, 0.1145,  ..., 0.0964, 0.0892, 0.1169],\n",
              "        ...,\n",
              "        [0.0422, 0.0548, 0.1131,  ..., 0.1004, 0.0556, 0.1086],\n",
              "        [0.0495, 0.0751, 0.1146,  ..., 0.0886, 0.0951, 0.1229],\n",
              "        [0.0592, 0.0772, 0.0941,  ..., 0.0722, 0.0837, 0.1215]],\n",
              "       grad_fn=<SoftmaxBackward>)"
            ]
          },
          "metadata": {
            "tags": []
          },
          "execution_count": 86
        }
      ]
    },
    {
      "cell_type": "code",
      "metadata": {
        "colab": {
          "base_uri": "https://localhost:8080/"
        },
        "id": "fH6IMbgvAmBo",
        "outputId": "19a6036f-7e67-4f08-e442-c2659d53987c"
      },
      "source": [
        "outputs"
      ],
      "execution_count": 87,
      "outputs": [
        {
          "output_type": "execute_result",
          "data": {
            "text/plain": [
              "tensor([[-5.8451e-01, -2.1955e-01,  4.0612e-01,  ...,  2.0536e-01,\n",
              "         -2.6489e-01,  1.4826e-01],\n",
              "        [-1.9081e-01, -1.7299e-01,  1.0360e-01,  ..., -9.3072e-02,\n",
              "         -1.5557e-01, -1.1286e-01],\n",
              "        [-2.7668e-01, -2.3371e-01,  1.4838e-01,  ..., -2.3504e-02,\n",
              "         -1.0099e-01,  1.6884e-01],\n",
              "        ...,\n",
              "        [-6.7353e-01, -4.1256e-01,  3.1165e-01,  ...,  1.9228e-01,\n",
              "         -3.9854e-01,  2.7088e-01],\n",
              "        [-6.5354e-01, -2.3671e-01,  1.8585e-01,  ..., -7.1295e-02,\n",
              "         -2.7203e-04,  2.5578e-01],\n",
              "        [-5.2499e-01, -2.5976e-01, -6.2378e-02,  ..., -3.2620e-01,\n",
              "         -1.7937e-01,  1.9330e-01]], grad_fn=<AddmmBackward>)"
            ]
          },
          "metadata": {
            "tags": []
          },
          "execution_count": 87
        }
      ]
    },
    {
      "cell_type": "code",
      "metadata": {
        "id": "M_9ipwo2Anye"
      },
      "source": [
        "loss_fn = F.cross_entropy"
      ],
      "execution_count": 88,
      "outputs": []
    },
    {
      "cell_type": "code",
      "metadata": {
        "colab": {
          "base_uri": "https://localhost:8080/"
        },
        "id": "Uvu4nUCOAvyG",
        "outputId": "18367d2d-4c96-4884-b079-4d3e1f6c9067"
      },
      "source": [
        "loss = loss_fn(outputs, labels)\n",
        "print(loss)"
      ],
      "execution_count": 89,
      "outputs": [
        {
          "output_type": "stream",
          "text": [
            "tensor(2.3004, grad_fn=<NllLossBackward>)\n"
          ],
          "name": "stdout"
        }
      ]
    },
    {
      "cell_type": "code",
      "metadata": {
        "id": "noX2zJhgA7ko"
      },
      "source": [
        "def fit(epochs, lr, model, train_loader, val_loader, opt_func=torch.optim.SGD):\n",
        "  \n",
        "  optimizer = opt_func(model.parameters(), lr)\n",
        "  history = []\n",
        "  \n",
        "  for epoch in range(epochs):\n",
        "    accsum = 0\n",
        "    losssum = 0\n",
        "    for batch in train_loader:\n",
        "      loss = model.training_step(batch)\n",
        "      loss.backward()\n",
        "      losssum += loss\n",
        "      optimizer.step()\n",
        "      optimizer.zero_grad()\n",
        "    \n",
        "    total_labels = None\n",
        "    total_out = None\n",
        "    for batch in train_loader:\n",
        "      images, labels = batch\n",
        "      out = model(images)\n",
        "      if total_out is None:\n",
        "        total_out = out\n",
        "        total_labels = labels\n",
        "      else:\n",
        "        total_out = torch.vstack([total_out, out])\n",
        "        total_labels = torch.hstack([total_labels, labels])      \n",
        "        \n",
        "    print(f\"train_loss : {losssum/len(total_labels)}, train_acc : {accuracy(total_out, total_labels)}\")\n",
        "\n",
        "    result = evaluate(model, val_loader)\n",
        "    model.epoch_end(epoch, result)\n",
        "    history.append(result)\n",
        "  \n",
        "\n",
        "  return history\n"
      ],
      "execution_count": 90,
      "outputs": []
    },
    {
      "cell_type": "code",
      "metadata": {
        "id": "F6FCox8bBmI7"
      },
      "source": [
        "l1 = [1,2,3,4,5]"
      ],
      "execution_count": null,
      "outputs": []
    },
    {
      "cell_type": "code",
      "metadata": {
        "colab": {
          "base_uri": "https://localhost:8080/"
        },
        "id": "PiGYlDG0Boda",
        "outputId": "2ec00095-e8b2-41db-8012-664405bea6f3"
      },
      "source": [
        "l2 = [x*2 for x in l1]\n",
        "l2"
      ],
      "execution_count": null,
      "outputs": [
        {
          "output_type": "execute_result",
          "data": {
            "text/plain": [
              "[2, 4, 6, 8, 10]"
            ]
          },
          "metadata": {
            "tags": []
          },
          "execution_count": 88
        }
      ]
    },
    {
      "cell_type": "code",
      "metadata": {
        "id": "FhIh_sKxBqkJ"
      },
      "source": [
        "def evaluate(model, val_loader):\n",
        "  outputs = [model.validation_step(batch) for batch in val_loader]\n",
        "  return model.validation_epoch_end(outputs)"
      ],
      "execution_count": 91,
      "outputs": []
    },
    {
      "cell_type": "code",
      "metadata": {
        "id": "0LjAr9s5B0o0"
      },
      "source": [
        "class MnistModel(nn.Module):\n",
        "  def __init__(self):\n",
        "    super().__init__()\n",
        "    self.linear = nn.Linear(input_size, num_classes)\n",
        "\n",
        "  def forward(self, xb):\n",
        "    xb = xb.reshape(-1, 3072)\n",
        "    out = self.linear(xb)\n",
        "    return out\n",
        "\n",
        "  def training_step(self, batch):\n",
        "    images, labels = batch\n",
        "    out = self(images)\n",
        "    loss = F.cross_entropy(out, labels)\n",
        "    return loss\n",
        "  \n",
        "  def validation_step(self, batch):\n",
        "    images, labels = batch\n",
        "    out = self(images)\n",
        "    loss = F.cross_entropy(out, labels)\n",
        "    acc = accuracy(out, labels)\n",
        "    return {'val_loss' : loss, 'val_acc' : acc}\n",
        "\n",
        "  def validation_epoch_end(self, outputs):\n",
        "    batch_losses = [x['val_loss']for x in outputs]\n",
        "    epoch_loss = torch.stack(batch_losses).mean()\n",
        "    batch_accs = [x['val_acc'] for x in outputs]\n",
        "    epoch_acc = torch.stack(batch_accs).mean()\n",
        "    return{'val_loss': epoch_loss.item(), 'val_acc': epoch_acc.item()}\n",
        "\n",
        "  def epoch_end(self, epoch, result):\n",
        "    \n",
        "    print(\"Epoch [{}], val_loss {:.4f}, val_acc: {:4f}\". format(epoch, result['val_loss'], result['val_acc']))\n",
        "    \n",
        "  \n",
        "model = MnistModel()\n"
      ],
      "execution_count": 94,
      "outputs": []
    },
    {
      "cell_type": "code",
      "metadata": {
        "id": "XXyxOSjPC5mE",
        "colab": {
          "base_uri": "https://localhost:8080/"
        },
        "outputId": "c74ba54e-0d68-4d23-a66f-1cb2989109bd"
      },
      "source": [
        "result0 = evaluate(model, val_loader)\n",
        "result0"
      ],
      "execution_count": 95,
      "outputs": [
        {
          "output_type": "execute_result",
          "data": {
            "text/plain": [
              "{'val_acc': 0.11451740562915802, 'val_loss': 2.349519729614258}"
            ]
          },
          "metadata": {
            "tags": []
          },
          "execution_count": 95
        }
      ]
    },
    {
      "cell_type": "code",
      "metadata": {
        "id": "l7cOwxiqmonS"
      },
      "source": [
        "import time\n"
      ],
      "execution_count": 96,
      "outputs": []
    },
    {
      "cell_type": "code",
      "metadata": {
        "colab": {
          "base_uri": "https://localhost:8080/"
        },
        "id": "n1lGCb-zDI4Q",
        "outputId": "bcb7d5a1-7328-42d6-b470-0a902ccbeb2d"
      },
      "source": [
        "start = time.time()\n",
        "history1 = fit(20, 0.001, model, train_loader, val_loader)\n",
        "end = time.time()\n",
        "print(end-start)"
      ],
      "execution_count": null,
      "outputs": [
        {
          "output_type": "stream",
          "text": [
            "train_loss : 0.017276566475629807, train_acc : 0.2538749873638153\n",
            "Epoch [0], val_loss 2.1330, val_acc: 0.261966\n",
            "train_loss : 0.016419393941760063, train_acc : 0.28227499127388\n",
            "Epoch [1], val_loss 2.0594, val_acc: 0.288667\n",
            "train_loss : 0.01596677675843239, train_acc : 0.30204999446868896\n",
            "Epoch [2], val_loss 2.0129, val_acc: 0.306171\n",
            "train_loss : 0.0156736820936203, train_acc : 0.3173750042915344\n",
            "Epoch [3], val_loss 1.9830, val_acc: 0.319422\n",
            "train_loss : 0.015456285327672958, train_acc : 0.3276999890804291\n",
            "Epoch [4], val_loss 1.9614, val_acc: 0.325356\n",
            "train_loss : 0.015292181633412838, train_acc : 0.3372749984264374\n",
            "Epoch [5], val_loss 1.9416, val_acc: 0.337718\n",
            "train_loss : 0.015160507522523403, train_acc : 0.33550000190734863\n",
            "Epoch [6], val_loss 1.9275, val_acc: 0.339003\n",
            "train_loss : 0.01504893321543932, train_acc : 0.345550000667572\n",
            "Epoch [7], val_loss 1.9144, val_acc: 0.348002\n",
            "train_loss : 0.014954911544919014, train_acc : 0.35302498936653137\n",
            "Epoch [8], val_loss 1.9029, val_acc: 0.350178\n",
            "train_loss : 0.0148698715493083, train_acc : 0.3510499894618988\n",
            "Epoch [9], val_loss 1.8941, val_acc: 0.350475\n",
            "train_loss : 0.014796096831560135, train_acc : 0.3568499982357025\n",
            "Epoch [10], val_loss 1.8855, val_acc: 0.360463\n",
            "train_loss : 0.01473805122077465, train_acc : 0.3591499924659729\n",
            "Epoch [11], val_loss 1.8793, val_acc: 0.359375\n",
            "train_loss : 0.01467935647815466, train_acc : 0.35885000228881836\n"
          ],
          "name": "stdout"
        }
      ]
    },
    {
      "cell_type": "code",
      "metadata": {
        "colab": {
          "base_uri": "https://localhost:8080/"
        },
        "id": "HeENHZrMDuxh",
        "outputId": "9952f09c-d34a-426a-d198-7f1ce7c971a7"
      },
      "source": [
        "history2 = fit(5, 0.001, model, train_loader, val_loader)"
      ],
      "execution_count": null,
      "outputs": [
        {
          "output_type": "stream",
          "text": [
            "train_loss : 0.00517189921811223, train_acc : 0.8547400236129761\n",
            "Epoch [0], val_loss 0.6579, val_acc: 0.855222\n",
            "train_loss : 0.005080146249383688, train_acc : 0.8560000061988831\n",
            "Epoch [1], val_loss 0.6467, val_acc: 0.856507\n",
            "train_loss : 0.004995528142899275, train_acc : 0.8570200204849243\n",
            "Epoch [2], val_loss 0.6364, val_acc: 0.858485\n",
            "train_loss : 0.0049157775938510895, train_acc : 0.8581600189208984\n",
            "Epoch [3], val_loss 0.6268, val_acc: 0.859771\n",
            "train_loss : 0.004842295311391354, train_acc : 0.859279990196228\n",
            "Epoch [4], val_loss 0.6179, val_acc: 0.860562\n"
          ],
          "name": "stdout"
        }
      ]
    },
    {
      "cell_type": "code",
      "metadata": {
        "colab": {
          "base_uri": "https://localhost:8080/"
        },
        "id": "_4O5tVqXDw4b",
        "outputId": "95f0bf4e-2a1b-4b76-a5ae-a5d2d3251a87"
      },
      "source": [
        "history3 = fit(5, 0.001, model, train_loader, val_loader)"
      ],
      "execution_count": null,
      "outputs": [
        {
          "output_type": "stream",
          "text": [
            "train_loss : 0.004773069638758898, train_acc : 0.8606200218200684\n",
            "Epoch [0], val_loss 0.6095, val_acc: 0.861254\n",
            "train_loss : 0.004708948545157909, train_acc : 0.861519992351532\n",
            "Epoch [1], val_loss 0.6017, val_acc: 0.862243\n",
            "train_loss : 0.00464857742190361, train_acc : 0.8629800081253052\n",
            "Epoch [2], val_loss 0.5943, val_acc: 0.863528\n",
            "train_loss : 0.004591301083564758, train_acc : 0.8637599945068359\n",
            "Epoch [3], val_loss 0.5874, val_acc: 0.864122\n",
            "train_loss : 0.004537833388894796, train_acc : 0.864579975605011\n",
            "Epoch [4], val_loss 0.5808, val_acc: 0.864913\n"
          ],
          "name": "stdout"
        }
      ]
    },
    {
      "cell_type": "code",
      "metadata": {
        "colab": {
          "base_uri": "https://localhost:8080/"
        },
        "id": "H5B5lZ6lS1eW",
        "outputId": "f0bbd829-fe15-43b8-f467-7ad8cc18e4f7"
      },
      "source": [
        "history4= fit(5,0.001, model, train_loader, val_loader)"
      ],
      "execution_count": null,
      "outputs": [
        {
          "output_type": "stream",
          "text": [
            "train_loss : 0.004487095400691032, train_acc : 0.8654400110244751\n",
            "Epoch [0], val_loss 0.5746, val_acc: 0.865704\n",
            "train_loss : 0.004438546020537615, train_acc : 0.8662199974060059\n",
            "Epoch [1], val_loss 0.5687, val_acc: 0.866199\n",
            "train_loss : 0.004393196664750576, train_acc : 0.866919994354248\n",
            "Epoch [2], val_loss 0.5631, val_acc: 0.866891\n",
            "train_loss : 0.004349397495388985, train_acc : 0.8676000237464905\n",
            "Epoch [3], val_loss 0.5578, val_acc: 0.867286\n",
            "train_loss : 0.004308459348976612, train_acc : 0.8682000041007996\n",
            "Epoch [4], val_loss 0.5528, val_acc: 0.867880\n"
          ],
          "name": "stdout"
        }
      ]
    },
    {
      "cell_type": "code",
      "metadata": {
        "colab": {
          "base_uri": "https://localhost:8080/"
        },
        "id": "BZyOriuQbKoO",
        "outputId": "54706952-f81f-4ad8-e4c3-d5ea9c25732a"
      },
      "source": [
        "history5 = fit(5,0.001, model, train_loader, val_loader)"
      ],
      "execution_count": null,
      "outputs": [
        {
          "output_type": "stream",
          "text": [
            "train_loss : 0.00426928885281086, train_acc : 0.8687800168991089\n",
            "Epoch [0], val_loss 0.5480, val_acc: 0.868176\n",
            "train_loss : 0.004232768435031176, train_acc : 0.8692600131034851\n",
            "Epoch [1], val_loss 0.5434, val_acc: 0.869066\n",
            "train_loss : 0.004196092952042818, train_acc : 0.8700399994850159\n",
            "Epoch [2], val_loss 0.5390, val_acc: 0.869858\n",
            "train_loss : 0.004160761367529631, train_acc : 0.8708400130271912\n",
            "Epoch [3], val_loss 0.5348, val_acc: 0.870748\n",
            "train_loss : 0.004129139240831137, train_acc : 0.8715599775314331\n",
            "Epoch [4], val_loss 0.5308, val_acc: 0.871143\n"
          ],
          "name": "stdout"
        }
      ]
    },
    {
      "cell_type": "code",
      "metadata": {
        "colab": {
          "base_uri": "https://localhost:8080/",
          "height": 312
        },
        "id": "sTB85aq9EPBm",
        "outputId": "bcf3532d-11f8-4c4c-9ea6-1aed565415f3"
      },
      "source": [
        "history = [result0]+ history1 + history2 + history3 +history4 + history5\n",
        "accuracies = [result['val_acc'] for result in history]\n",
        "pit.plot(accuracies, '-x')\n",
        "pit.xlabel('epoch')\n",
        "pit.ylabel('accuracy')\n",
        "pit.title('Accuracy vs No. of epochs')"
      ],
      "execution_count": null,
      "outputs": [
        {
          "output_type": "execute_result",
          "data": {
            "text/plain": [
              "Text(0.5, 1.0, 'Accuracy vs No. of epochs')"
            ]
          },
          "metadata": {
            "tags": []
          },
          "execution_count": 99
        },
        {
          "output_type": "display_data",
          "data": {
            "image/png": "[encoded data removed]",
            "text/plain": [
              "<Figure size 432x288 with 1 Axes>"
            ]
          },
          "metadata": {
            "tags": [],
            "needs_background": "light"
          }
        }
      ]
    },
    {
      "cell_type": "code",
      "metadata": {
        "id": "j_1wD6WTFIk6"
      },
      "source": [
        "test_dataset = MNIST(root='data', train=False, transform = transforms.ToTensor())"
      ],
      "execution_count": null,
      "outputs": []
    },
    {
      "cell_type": "code",
      "metadata": {
        "colab": {
          "base_uri": "https://localhost:8080/",
          "height": 301
        },
        "id": "QxRxTAp5FVFE",
        "outputId": "60210883-62dd-4f85-accc-c37c7c769120"
      },
      "source": [
        "img, label = test_dataset[0]\n",
        "pit.imshow(img[0], cmap='gray')\n",
        "print('Shape:', img.shape)\n",
        "print('Label:', label)"
      ],
      "execution_count": null,
      "outputs": [
        {
          "output_type": "stream",
          "text": [
            "Shape: torch.Size([1, 28, 28])\n",
            "Label: 7\n"
          ],
          "name": "stdout"
        },
        {
          "output_type": "display_data",
          "data": {
            "image/png": "[encoded data removed]",
            "text/plain": [
              "<Figure size 432x288 with 1 Axes>"
            ]
          },
          "metadata": {
            "tags": [],
            "needs_background": "light"
          }
        }
      ]
    },
    {
      "cell_type": "code",
      "metadata": {
        "id": "cQJdYPCPFfmR"
      },
      "source": [
        "def predict_image(img,model):\n",
        "  xb = img.unsqueeze(0)\n",
        "  yb = model(xb)\n",
        "  _, preds = torch.max(yb, dim=1)\n",
        "  return preds[0].item()"
      ],
      "execution_count": null,
      "outputs": []
    },
    {
      "cell_type": "code",
      "metadata": {
        "colab": {
          "base_uri": "https://localhost:8080/",
          "height": 283
        },
        "id": "FUxhnXBNDYcq",
        "outputId": "6387c3c2-b6f0-42ef-89bd-85b4423bc943"
      },
      "source": [
        "img, label = test_dataset[0]\n",
        "pit.imshow(img[0], cmap='gray')\n",
        "print('Label:', label, 'Predicted:', predict_image(img,model))"
      ],
      "execution_count": null,
      "outputs": [
        {
          "output_type": "stream",
          "text": [
            "Label: 7 Predicted: 7\n"
          ],
          "name": "stdout"
        },
        {
          "output_type": "display_data",
          "data": {
            "image/png": "[encoded data removed]",
            "text/plain": [
              "<Figure size 432x288 with 1 Axes>"
            ]
          },
          "metadata": {
            "tags": [],
            "needs_background": "light"
          }
        }
      ]
    },
    {
      "cell_type": "code",
      "metadata": {
        "colab": {
          "base_uri": "https://localhost:8080/",
          "height": 283
        },
        "id": "7lDzcu6IB8y-",
        "outputId": "0b8d5747-5ebd-4106-ed94-777f1bbfd34a"
      },
      "source": [
        "img, label = test_dataset[10]\n",
        "pit.imshow(img[0], cmap='gray')\n",
        "print('Label:', label, 'Predicted:', predict_image(img,model))"
      ],
      "execution_count": null,
      "outputs": [
        {
          "output_type": "stream",
          "text": [
            "Label: 0 Predicted: 0\n"
          ],
          "name": "stdout"
        },
        {
          "output_type": "display_data",
          "data": {
            "image/png": "[encoded data removed]",
            "text/plain": [
              "<Figure size 432x288 with 1 Axes>"
            ]
          },
          "metadata": {
            "tags": [],
            "needs_background": "light"
          }
        }
      ]
    },
    {
      "cell_type": "code",
      "metadata": {
        "colab": {
          "base_uri": "https://localhost:8080/",
          "height": 283
        },
        "id": "xbyO238fF5qJ",
        "outputId": "17f3776d-cc4a-4c26-8ca7-c1d8a6459921"
      },
      "source": [
        "img, label = test_dataset[193]\n",
        "pit.imshow(img[0], cmap='gray')\n",
        "print('Label:', label, ', Predicted:', predict_image(img, model))"
      ],
      "execution_count": null,
      "outputs": [
        {
          "output_type": "stream",
          "text": [
            "Label: 9 , Predicted: 3\n"
          ],
          "name": "stdout"
        },
        {
          "output_type": "display_data",
          "data": {
            "image/png": "[encoded data removed]",
            "text/plain": [
              "<Figure size 432x288 with 1 Axes>"
            ]
          },
          "metadata": {
            "tags": [],
            "needs_background": "light"
          }
        }
      ]
    },
    {
      "cell_type": "code",
      "metadata": {
        "colab": {
          "base_uri": "https://localhost:8080/",
          "height": 283
        },
        "id": "sDXNzGBlF_-I",
        "outputId": "90eaae0a-1d09-47a5-b47e-7910351f25f0"
      },
      "source": [
        "img, label = test_dataset[1839]\n",
        "pit.imshow(img[0], cmap='gray')\n",
        "print('Label:', label, ', Predicted:', predict_image(img, model))"
      ],
      "execution_count": null,
      "outputs": [
        {
          "output_type": "stream",
          "text": [
            "Label: 2 , Predicted: 8\n"
          ],
          "name": "stdout"
        },
        {
          "output_type": "display_data",
          "data": {
            "image/png": "[encoded data removed]",
            "text/plain": [
              "<Figure size 432x288 with 1 Axes>"
            ]
          },
          "metadata": {
            "tags": [],
            "needs_background": "light"
          }
        }
      ]
    },
    {
      "cell_type": "code",
      "metadata": {
        "colab": {
          "base_uri": "https://localhost:8080/"
        },
        "id": "_AyIgp4WGEmC",
        "outputId": "841728d0-6dd4-424b-8de4-33932bb07450"
      },
      "source": [
        "test_loader = DataLoader(test_dataset, batch_size = 4)\n",
        "result = evaluate(model, test_loader)\n",
        "result"
      ],
      "execution_count": null,
      "outputs": [
        {
          "output_type": "execute_result",
          "data": {
            "text/plain": [
              "{'val_acc': 0.9180999994277954, 'val_loss': 0.2964304983615875}"
            ]
          },
          "metadata": {
            "tags": []
          },
          "execution_count": 290
        }
      ]
    },
    {
      "cell_type": "code",
      "metadata": {
        "id": "c9rfIrF2Gk3f"
      },
      "source": [
        "torch.save(model.state_dict(), 'mnist-logistic.pth')"
      ],
      "execution_count": null,
      "outputs": []
    },
    {
      "cell_type": "code",
      "metadata": {
        "colab": {
          "base_uri": "https://localhost:8080/"
        },
        "id": "7Na9jCqqGwXq",
        "outputId": "f213f78a-d94c-4b4c-8a49-e013d1895fae"
      },
      "source": [
        "model.state_dict()"
      ],
      "execution_count": null,
      "outputs": [
        {
          "output_type": "execute_result",
          "data": {
            "text/plain": [
              "OrderedDict([('linear.weight',\n",
              "              tensor([[ 0.0246, -0.0315, -0.0028,  ...,  0.0313,  0.0114, -0.0283],\n",
              "                      [ 0.0148, -0.0274, -0.0285,  ..., -0.0013,  0.0327,  0.0224],\n",
              "                      [-0.0145,  0.0196,  0.0123,  ...,  0.0348, -0.0073, -0.0048],\n",
              "                      ...,\n",
              "                      [-0.0323,  0.0077, -0.0167,  ...,  0.0202, -0.0219, -0.0280],\n",
              "                      [ 0.0308, -0.0013, -0.0276,  ...,  0.0198,  0.0240,  0.0044],\n",
              "                      [ 0.0232,  0.0041,  0.0145,  ...,  0.0269,  0.0153,  0.0074]])),\n",
              "             ('linear.bias',\n",
              "              tensor([-0.0308,  0.1248, -0.0569, -0.0380,  0.0135,  0.0524,  0.0222,  0.0712,\n",
              "                      -0.1343,  0.0072]))])"
            ]
          },
          "metadata": {
            "tags": []
          },
          "execution_count": 388
        }
      ]
    },
    {
      "cell_type": "code",
      "metadata": {
        "id": "S_LtNky8Gy2x"
      },
      "source": [
        "model2 = MnistModel()"
      ],
      "execution_count": null,
      "outputs": []
    },
    {
      "cell_type": "code",
      "metadata": {
        "colab": {
          "base_uri": "https://localhost:8080/"
        },
        "id": "u6XvmfmnG1Gh",
        "outputId": "84376337-1f5b-4faa-9727-06109e83c7e7"
      },
      "source": [
        "model2.state_dict()"
      ],
      "execution_count": null,
      "outputs": [
        {
          "output_type": "execute_result",
          "data": {
            "text/plain": [
              "OrderedDict([('linear.weight',\n",
              "              tensor([[-0.0147,  0.0045,  0.0166,  ..., -0.0273, -0.0100,  0.0184],\n",
              "                      [ 0.0016, -0.0086, -0.0157,  ...,  0.0009, -0.0332,  0.0091],\n",
              "                      [ 0.0186, -0.0152,  0.0160,  ..., -0.0267,  0.0118,  0.0027],\n",
              "                      ...,\n",
              "                      [-0.0091, -0.0176, -0.0266,  ..., -0.0157,  0.0339, -0.0047],\n",
              "                      [ 0.0172, -0.0305, -0.0009,  ...,  0.0091, -0.0142, -0.0310],\n",
              "                      [-0.0210, -0.0246, -0.0330,  ..., -0.0236, -0.0120,  0.0109]])),\n",
              "             ('linear.bias',\n",
              "              tensor([-0.0173,  0.0254,  0.0073, -0.0047,  0.0069,  0.0079, -0.0073,  0.0158,\n",
              "                       0.0018,  0.0052]))])"
            ]
          },
          "metadata": {
            "tags": []
          },
          "execution_count": 437
        }
      ]
    },
    {
      "cell_type": "code",
      "metadata": {
        "colab": {
          "base_uri": "https://localhost:8080/"
        },
        "id": "N1bKbv7gG42f",
        "outputId": "14f5d912-e5e7-46b0-e1b3-92ecbe3fff0d"
      },
      "source": [
        "evaluate(model2, test_loader)"
      ],
      "execution_count": null,
      "outputs": [
        {
          "output_type": "execute_result",
          "data": {
            "text/plain": [
              "{'val_acc': 0.13808593153953552, 'val_loss': 2.319255828857422}"
            ]
          },
          "metadata": {
            "tags": []
          },
          "execution_count": 92
        }
      ]
    },
    {
      "cell_type": "code",
      "metadata": {
        "colab": {
          "base_uri": "https://localhost:8080/"
        },
        "id": "gjpmwlJQHHDB",
        "outputId": "f46540e5-4494-460b-bd70-49fb6799bf88"
      },
      "source": [
        "model2.load_state_dict(torch.load('mnist-logistic.pth'))\n",
        "model2.state_dict()"
      ],
      "execution_count": null,
      "outputs": [
        {
          "output_type": "execute_result",
          "data": {
            "text/plain": [
              "OrderedDict([('linear.weight',\n",
              "              tensor([[-0.0337, -0.0279, -0.0009,  ...,  0.0131,  0.0225,  0.0244],\n",
              "                      [ 0.0103, -0.0105,  0.0307,  ..., -0.0314,  0.0109,  0.0041],\n",
              "                      [-0.0035,  0.0084, -0.0036,  ..., -0.0015, -0.0114, -0.0176],\n",
              "                      ...,\n",
              "                      [-0.0097,  0.0127,  0.0349,  ..., -0.0204,  0.0013,  0.0348],\n",
              "                      [ 0.0262, -0.0054, -0.0220,  ..., -0.0340,  0.0251,  0.0318],\n",
              "                      [-0.0076, -0.0269,  0.0151,  ...,  0.0211,  0.0351, -0.0278]])),\n",
              "             ('linear.bias',\n",
              "              tensor([-0.0644,  0.0795, -0.0243, -0.0098,  0.0326,  0.0622,  0.0222,  0.0558,\n",
              "                      -0.0741,  0.0122]))])"
            ]
          },
          "metadata": {
            "tags": []
          },
          "execution_count": 93
        }
      ]
    },
    {
      "cell_type": "code",
      "metadata": {
        "colab": {
          "base_uri": "https://localhost:8080/"
        },
        "id": "BUxHa-UvHMHi",
        "outputId": "1356bcde-eeb7-40e4-facf-abfb33d300a4"
      },
      "source": [
        "test_loader = DataLoader(test_dataset, batch_size=256)\n",
        "result = evaluate(model2, test_loader)\n",
        "result"
      ],
      "execution_count": null,
      "outputs": [
        {
          "output_type": "execute_result",
          "data": {
            "text/plain": [
              "{'val_acc': 0.855664074420929, 'val_loss': 0.7193717360496521}"
            ]
          },
          "metadata": {
            "tags": []
          },
          "execution_count": 94
        }
      ]
    }
  ]
}